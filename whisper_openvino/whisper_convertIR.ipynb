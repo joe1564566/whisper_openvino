{
 "cells": [
  {
   "cell_type": "markdown",
   "metadata": {},
   "source": [
    "# Video Subtitle Generation using Whisper and OpenVINO™\n",
    "\n",
    "[Whisper](https://openai.com/blog/whisper/) is an automatic speech recognition (ASR) system trained on 680,000 hours of multilingual and multitask supervised data collected from the web. It is a multi-task model that can perform multilingual speech recognition as well as speech translation and language identification.\n",
    "\n",
    "![asr-training-data-desktop.svg](https://user-images.githubusercontent.com/29454499/204536347-28976978-9a07-416c-acff-fc1214bbfbe0.svg)\n",
    "\n",
    "You can find more information about this model in the [research paper](https://cdn.openai.com/papers/whisper.pdf), [OpenAI blog](https://openai.com/blog/whisper/), [model card](https://github.com/openai/whisper/blob/main/model-card.md) and GitHub [repository](https://github.com/openai/whisper).\n",
    "\n",
    "In this notebook, we will use Whisper with OpenVINO to generate subtitles in a sample video.\n",
    "Notebook contains the following steps:\n",
    "1. Download the model.\n",
    "2. Instantiate the PyTorch model pipeline.\n",
    "3. Export the ONNX model and convert it to OpenVINO IR, using the Model Optimizer tool.\n",
    "4. Run the Whisper pipeline with OpenVINO models."
   ]
  },
  {
   "cell_type": "markdown",
   "metadata": {},
   "source": [
    "## Prerequisites"
   ]
  },
  {
   "cell_type": "markdown",
   "metadata": {},
   "source": [
    "Clone and install the model repository."
   ]
  },
  {
   "cell_type": "code",
   "execution_count": 1,
   "metadata": {
    "ExecuteTime": {
     "end_time": "2023-05-29T16:20:41.206956Z",
     "start_time": "2023-05-29T16:20:39.327474Z"
    }
   },
   "outputs": [],
   "source": [
    "!pip install -q \"python-ffmpeg<=1.0.16\" moviepy"
   ]
  },
  {
   "cell_type": "code",
   "execution_count": 2,
   "metadata": {
    "ExecuteTime": {
     "end_time": "2023-05-29T16:20:46.508660Z",
     "start_time": "2023-05-29T16:20:41.209097Z"
    },
    "tags": []
   },
   "outputs": [],
   "source": [
    "!pip install -q -I \"git+https://github.com/garywu007/pytube.git\"\n",
    "!pip install -q pydub"
   ]
  },
  {
   "cell_type": "code",
   "execution_count": 3,
   "metadata": {
    "ExecuteTime": {
     "end_time": "2023-05-29T16:20:51.013411Z",
     "start_time": "2023-05-29T16:20:46.511506Z"
    }
   },
   "outputs": [
    {
     "name": "stdout",
     "output_type": "stream",
     "text": [
      "Cloning into 'whisper'...\n",
      "remote: Enumerating objects: 712, done.\u001b[K\n",
      "remote: Counting objects: 100% (10/10), done.\u001b[K\n",
      "remote: Compressing objects: 100% (10/10), done.\u001b[K\n",
      "remote: Total 712 (delta 1), reused 3 (delta 0), pack-reused 702\u001b[K\n",
      "Receiving objects: 100% (712/712), 12.45 MiB | 8.50 MiB/s, done.\n",
      "Resolving deltas: 100% (417/417), done.\n",
      "Note: switching to '55f690af7914c672c69733b7e04ef5a41b2b2774'.\n",
      "\n",
      "You are in 'detached HEAD' state. You can look around, make experimental\n",
      "changes and commit them, and you can discard any commits you make in this\n",
      "state without impacting any branches by switching back to a branch.\n",
      "\n",
      "If you want to create a new branch to retain commits you create, you may\n",
      "do so (now or later) by using -c with the switch command. Example:\n",
      "\n",
      "  git switch -c <new-branch-name>\n",
      "\n",
      "Or undo this operation with:\n",
      "\n",
      "  git switch -\n",
      "\n",
      "Turn off this advice by setting config variable advice.detachedHead to false\n",
      "\n",
      "/home/user/Desktop/whisper/whisper_openvino/whisper_openvino/whisper\n",
      "/home/user/Desktop/whisper/whisper_openvino/whisper_openvino/whisper/setup.py:3: DeprecationWarning: pkg_resources is deprecated as an API. See https://setuptools.pypa.io/en/latest/pkg_resources.html\n",
      "  import pkg_resources\n",
      "/home/user/miniconda3/envs/whisper/lib/python3.10/site-packages/setuptools/_distutils/dist.py:265: UserWarning: Unknown distribution option: 'readme'\n",
      "  warnings.warn(msg)\n",
      "running develop\n",
      "/home/user/miniconda3/envs/whisper/lib/python3.10/site-packages/setuptools/command/develop.py:40: EasyInstallDeprecationWarning: easy_install command is deprecated.\n",
      "!!\n",
      "\n",
      "        ********************************************************************************\n",
      "        Please avoid running ``setup.py`` and ``easy_install``.\n",
      "        Instead, use pypa/build, pypa/installer or other\n",
      "        standards-based tools.\n",
      "\n",
      "        See https://github.com/pypa/setuptools/issues/917 for details.\n",
      "        ********************************************************************************\n",
      "\n",
      "!!\n",
      "  easy_install.initialize_options(self)\n",
      "/home/user/miniconda3/envs/whisper/lib/python3.10/site-packages/setuptools/_distutils/cmd.py:66: SetuptoolsDeprecationWarning: setup.py install is deprecated.\n",
      "!!\n",
      "\n",
      "        ********************************************************************************\n",
      "        Please avoid running ``setup.py`` directly.\n",
      "        Instead, use pypa/build, pypa/installer or other\n",
      "        standards-based tools.\n",
      "\n",
      "        See https://blog.ganssle.io/articles/2021/10/setup-py-deprecated.html for details.\n",
      "        ********************************************************************************\n",
      "\n",
      "!!\n",
      "  self.initialize_options()\n"
     ]
    },
    {
     "name": "stderr",
     "output_type": "stream",
     "text": [
      "/home/user/miniconda3/envs/whisper/lib/python3.10/site-packages/IPython/core/magics/osm.py:417: UserWarning: This is now an optional IPython functionality, setting dhist requires you to install the `pickleshare` library.\n",
      "  self.shell.db['dhist'] = compress_dhist(dhist)[-100:]\n"
     ]
    },
    {
     "name": "stdout",
     "output_type": "stream",
     "text": [
      "running egg_info\n",
      "creating openai_whisper.egg-info\n",
      "writing openai_whisper.egg-info/PKG-INFO\n",
      "writing dependency_links to openai_whisper.egg-info/dependency_links.txt\n",
      "writing entry points to openai_whisper.egg-info/entry_points.txt\n",
      "writing requirements to openai_whisper.egg-info/requires.txt\n",
      "writing top-level names to openai_whisper.egg-info/top_level.txt\n",
      "writing manifest file 'openai_whisper.egg-info/SOURCES.txt'\n",
      "file whisper.py (for module whisper) not found\n",
      "reading manifest file 'openai_whisper.egg-info/SOURCES.txt'\n",
      "reading manifest template 'MANIFEST.in'\n",
      "adding license file 'LICENSE'\n",
      "writing manifest file 'openai_whisper.egg-info/SOURCES.txt'\n",
      "running build_ext\n",
      "Creating /home/user/miniconda3/envs/whisper/lib/python3.10/site-packages/openai-whisper.egg-link (link to .)\n",
      "Adding openai-whisper 20230124 to easy-install.pth file\n",
      "Installing whisper script to /home/user/miniconda3/envs/whisper/bin\n",
      "\n",
      "Installed /home/user/Desktop/whisper/whisper_openvino/whisper_openvino/whisper\n",
      "Processing dependencies for openai-whisper==20230124\n",
      "Searching for ffmpeg-python==0.2.0\n",
      "Reading https://pypi.org/simple/ffmpeg-python/\n",
      "Downloading https://files.pythonhosted.org/packages/d7/0c/56be52741f75bad4dc6555991fabd2e07b432d333da82c11ad701123888a/ffmpeg_python-0.2.0-py3-none-any.whl#sha256=ac441a0404e053f8b6a1113a77c0f452f1cfc62f6344a769475ffdc0f56c23c5\n",
      "Best match: ffmpeg-python 0.2.0\n",
      "Processing ffmpeg_python-0.2.0-py3-none-any.whl\n",
      "Installing ffmpeg_python-0.2.0-py3-none-any.whl to /home/user/miniconda3/envs/whisper/lib/python3.10/site-packages\n",
      "Adding ffmpeg-python 0.2.0 to easy-install.pth file\n",
      "\n",
      "Installed /home/user/miniconda3/envs/whisper/lib/python3.10/site-packages/ffmpeg_python-0.2.0-py3.10.egg\n",
      "Searching for more-itertools\n",
      "Reading https://pypi.org/simple/more-itertools/\n",
      "Downloading https://files.pythonhosted.org/packages/50/e2/8e10e465ee3987bb7c9ab69efb91d867d93959095f4807db102d07995d94/more_itertools-10.2.0-py3-none-any.whl#sha256=686b06abe565edfab151cb8fd385a05651e1fdf8f0a14191e4439283421f8684\n",
      "Best match: more-itertools 10.2.0\n",
      "Processing more_itertools-10.2.0-py3-none-any.whl\n",
      "Installing more_itertools-10.2.0-py3-none-any.whl to /home/user/miniconda3/envs/whisper/lib/python3.10/site-packages\n",
      "Adding more-itertools 10.2.0 to easy-install.pth file\n",
      "detected new path './ffmpeg_python-0.2.0-py3.10.egg'\n",
      "\n",
      "Installed /home/user/miniconda3/envs/whisper/lib/python3.10/site-packages/more_itertools-10.2.0-py3.10.egg\n",
      "Searching for transformers==4.39.3\n",
      "Best match: transformers 4.39.3\n",
      "Adding transformers 4.39.3 to easy-install.pth file\n",
      "detected new path './more_itertools-10.2.0-py3.10.egg'\n",
      "Installing transformers-cli script to /home/user/miniconda3/envs/whisper/bin\n",
      "\n",
      "Using /home/user/miniconda3/envs/whisper/lib/python3.10/site-packages\n",
      "Searching for tqdm==4.66.2\n",
      "Best match: tqdm 4.66.2\n",
      "Adding tqdm 4.66.2 to easy-install.pth file\n",
      "Installing tqdm script to /home/user/miniconda3/envs/whisper/bin\n",
      "\n",
      "Using /home/user/miniconda3/envs/whisper/lib/python3.10/site-packages\n",
      "Searching for torch==1.13.1+cpu\n",
      "Best match: torch 1.13.1+cpu\n",
      "Adding torch 1.13.1+cpu to easy-install.pth file\n",
      "Installing convert-caffe2-to-onnx script to /home/user/miniconda3/envs/whisper/bin\n",
      "Installing convert-onnx-to-caffe2 script to /home/user/miniconda3/envs/whisper/bin\n",
      "Installing torchrun script to /home/user/miniconda3/envs/whisper/bin\n",
      "\n",
      "Using /home/user/miniconda3/envs/whisper/lib/python3.10/site-packages\n",
      "Searching for numpy==1.23.4\n",
      "Best match: numpy 1.23.4\n",
      "Adding numpy 1.23.4 to easy-install.pth file\n",
      "Installing f2py script to /home/user/miniconda3/envs/whisper/bin\n",
      "Installing f2py3 script to /home/user/miniconda3/envs/whisper/bin\n",
      "Installing f2py3.10 script to /home/user/miniconda3/envs/whisper/bin\n",
      "\n",
      "Using /home/user/miniconda3/envs/whisper/lib/python3.10/site-packages\n",
      "Searching for future==1.0.0\n",
      "Best match: future 1.0.0\n",
      "Adding future 1.0.0 to easy-install.pth file\n",
      "Installing futurize script to /home/user/miniconda3/envs/whisper/bin\n",
      "Installing pasteurize script to /home/user/miniconda3/envs/whisper/bin\n",
      "\n",
      "Using /home/user/miniconda3/envs/whisper/lib/python3.10/site-packages\n",
      "Searching for safetensors==0.4.3\n",
      "Best match: safetensors 0.4.3\n",
      "Adding safetensors 0.4.3 to easy-install.pth file\n",
      "\n",
      "Using /home/user/miniconda3/envs/whisper/lib/python3.10/site-packages\n",
      "Searching for tokenizers==0.15.2\n",
      "Best match: tokenizers 0.15.2\n",
      "Adding tokenizers 0.15.2 to easy-install.pth file\n",
      "\n",
      "Using /home/user/miniconda3/envs/whisper/lib/python3.10/site-packages\n",
      "Searching for requests==2.31.0\n",
      "Best match: requests 2.31.0\n",
      "Adding requests 2.31.0 to easy-install.pth file\n",
      "\n",
      "Using /home/user/miniconda3/envs/whisper/lib/python3.10/site-packages\n",
      "Searching for regex==2024.4.16\n",
      "Best match: regex 2024.4.16\n",
      "Adding regex 2024.4.16 to easy-install.pth file\n",
      "\n",
      "Using /home/user/miniconda3/envs/whisper/lib/python3.10/site-packages\n",
      "Searching for PyYAML==6.0.1\n",
      "Best match: PyYAML 6.0.1\n",
      "Adding PyYAML 6.0.1 to easy-install.pth file\n",
      "\n",
      "Using /home/user/miniconda3/envs/whisper/lib/python3.10/site-packages\n",
      "Searching for packaging==24.0\n",
      "Best match: packaging 24.0\n",
      "Adding packaging 24.0 to easy-install.pth file\n",
      "\n",
      "Using /home/user/miniconda3/envs/whisper/lib/python3.10/site-packages\n",
      "Searching for huggingface-hub==0.22.2\n",
      "Best match: huggingface-hub 0.22.2\n",
      "Adding huggingface-hub 0.22.2 to easy-install.pth file\n",
      "Installing huggingface-cli script to /home/user/miniconda3/envs/whisper/bin\n",
      "\n",
      "Using /home/user/miniconda3/envs/whisper/lib/python3.10/site-packages\n",
      "Searching for filelock==3.13.4\n",
      "Best match: filelock 3.13.4\n",
      "Adding filelock 3.13.4 to easy-install.pth file\n",
      "\n",
      "Using /home/user/miniconda3/envs/whisper/lib/python3.10/site-packages\n",
      "Searching for typing-extensions==4.11.0\n",
      "Best match: typing-extensions 4.11.0\n",
      "Adding typing-extensions 4.11.0 to easy-install.pth file\n",
      "\n",
      "Using /home/user/miniconda3/envs/whisper/lib/python3.10/site-packages\n",
      "Searching for certifi==2024.2.2\n",
      "Best match: certifi 2024.2.2\n",
      "Adding certifi 2024.2.2 to easy-install.pth file\n",
      "\n",
      "Using /home/user/miniconda3/envs/whisper/lib/python3.10/site-packages\n",
      "Searching for urllib3==2.2.1\n",
      "Best match: urllib3 2.2.1\n",
      "Adding urllib3 2.2.1 to easy-install.pth file\n",
      "\n",
      "Using /home/user/miniconda3/envs/whisper/lib/python3.10/site-packages\n",
      "Searching for idna==3.7\n",
      "Best match: idna 3.7\n",
      "Adding idna 3.7 to easy-install.pth file\n",
      "\n",
      "Using /home/user/miniconda3/envs/whisper/lib/python3.10/site-packages\n",
      "Searching for charset-normalizer==3.3.2\n",
      "Best match: charset-normalizer 3.3.2\n",
      "Adding charset-normalizer 3.3.2 to easy-install.pth file\n",
      "Installing normalizer script to /home/user/miniconda3/envs/whisper/bin\n",
      "\n",
      "Using /home/user/miniconda3/envs/whisper/lib/python3.10/site-packages\n",
      "Searching for fsspec==2024.3.1\n",
      "Best match: fsspec 2024.3.1\n",
      "Adding fsspec 2024.3.1 to easy-install.pth file\n",
      "\n",
      "Using /home/user/miniconda3/envs/whisper/lib/python3.10/site-packages\n",
      "Finished processing dependencies for openai-whisper==20230124\n"
     ]
    }
   ],
   "source": [
    "from pathlib import Path\n",
    "\n",
    "REPO_DIR = Path(\"whisper\")\n",
    "if not REPO_DIR.exists():\n",
    "    !git clone https://github.com/openai/whisper.git -b v20230124\n",
    "%cd whisper\n",
    "!python setup.py develop"
   ]
  },
  {
   "cell_type": "markdown",
   "metadata": {},
   "source": [
    "## Instantiate model\n",
    "Whisper is a Transformer based encoder-decoder model, also referred to as a sequence-to-sequence model. It maps a sequence of audio spectrogram features to a sequence of text tokens. First, the raw audio inputs are converted to a log-Mel spectrogram by action of the feature extractor. Then, the Transformer encoder encodes the spectrogram to form a sequence of encoder hidden states. Finally, the decoder autoregressively predicts text tokens, conditional on both the previous tokens and the encoder hidden states.\n",
    "\n",
    "You can see the model architecture in the diagram below:\n",
    "\n",
    "![whisper_architecture.svg](https://user-images.githubusercontent.com/29454499/204536571-8f6d8d77-5fbd-4c6d-8e29-14e734837860.svg)\n"
   ]
  },
  {
   "cell_type": "markdown",
   "metadata": {},
   "source": [
    "There are several models of different sizes and capabilities trained by the authors of the model. In this tutorial, we will use the `base` model, but the same actions are also applicable to other models from Whisper family."
   ]
  },
  {
   "cell_type": "code",
   "execution_count": 4,
   "metadata": {
    "ExecuteTime": {
     "end_time": "2023-05-29T16:20:52.551020Z",
     "start_time": "2023-05-29T16:20:51.014974Z"
    }
   },
   "outputs": [
    {
     "name": "stderr",
     "output_type": "stream",
     "text": [
      "100%|███████████████████████████████████████| 461M/461M [01:14<00:00, 6.53MiB/s]\n"
     ]
    }
   ],
   "source": [
    "import whisper\n",
    "\n",
    "model = whisper.load_model(\"small\")\n",
    "model.to(\"cpu\")\n",
    "model.eval()\n",
    "pass"
   ]
  },
  {
   "cell_type": "markdown",
   "metadata": {},
   "source": [
    "### Convert model to OpenVINO Intermediate Representation (IR) format.\n",
    "\n",
    "For best results with OpenVINO, it is recommended to convert the model to OpenVINO IR format. OpenVINO supports PyTorch via ONNX conversion. We will use `torch.onnx.export` for exporting the ONNX model from PyTorch. We need to provide initialized model object and example of inputs for shape inference. We will use `mo.convert_model` functionality to convert the ONNX models. The `mo.convert_model` Python function returns an OpenVINO model ready to load on device and start making predictions. We can save it on disk for next usage with `openvino.runtime.serialize`.\n"
   ]
  },
  {
   "cell_type": "markdown",
   "metadata": {},
   "source": [
    "### Convert Whisper Encoder to OpenVINO IR"
   ]
  },
  {
   "cell_type": "code",
   "execution_count": 5,
   "metadata": {},
   "outputs": [],
   "source": [
    "from pathlib import Path\n",
    "\n",
    "WHISPER_ENCODER_OV = Path(f\"whisper_encoder.xml\")\n",
    "WHISPER_DECODER_OV = Path(f\"whisper_decoder.xml\")"
   ]
  },
  {
   "cell_type": "code",
   "execution_count": 6,
   "metadata": {
    "ExecuteTime": {
     "end_time": "2023-05-29T16:20:54.789255Z",
     "start_time": "2023-05-29T16:20:52.553552Z"
    }
   },
   "outputs": [
    {
     "name": "stderr",
     "output_type": "stream",
     "text": [
      "/home/user/Desktop/whisper/whisper_openvino/whisper_openvino/whisper/whisper/model.py:153: TracerWarning: Converting a tensor to a Python boolean might cause the trace to be incorrect. We can't record the data flow of Python values, so this value will be treated as a constant in the future. This means that the trace might not generalize to other inputs!\n",
      "  assert x.shape[1:] == self.positional_embedding.shape, \"incorrect audio shape\"\n"
     ]
    }
   ],
   "source": [
    "import torch\n",
    "from openvino.tools import mo\n",
    "from openvino.runtime import serialize\n",
    "mel = torch.zeros((1, 80, 3000))\n",
    "audio_features = model.encoder(mel)\n",
    "if not WHISPER_ENCODER_OV.exists():\n",
    "    torch.onnx.export(\n",
    "        model.encoder, \n",
    "        mel, \n",
    "        \"whisper_encoder.onnx\",\n",
    "        input_names=[\"mel\"], \n",
    "        output_names=[\"output_features\"]\n",
    "    )\n",
    "    encoder_model = mo.convert_model(\"whisper_encoder.onnx\", compress_to_fp16=True)\n",
    "    serialize(encoder_model, xml_path=\"whisper_encoder.xml\")"
   ]
  },
  {
   "cell_type": "markdown",
   "metadata": {},
   "source": [
    "### Convert Whisper decoder to OpenVINO IR\n",
    "\n",
    "To reduce computational complexity, the decoder uses cached key/value projections in attention modules from the previous steps. We need to modify this process for correct tracing to ONNX."
   ]
  },
  {
   "cell_type": "code",
   "execution_count": 7,
   "metadata": {
    "ExecuteTime": {
     "end_time": "2023-05-29T16:20:54.809679Z",
     "start_time": "2023-05-29T16:20:54.802553Z"
    }
   },
   "outputs": [],
   "source": [
    "import torch\n",
    "from typing import Optional, Union, List, Dict\n",
    "from functools import partial\n",
    "\n",
    "positional_embeddings_size = model.decoder.positional_embedding.shape[0]\n",
    "\n",
    "\n",
    "def save_to_cache(cache: Dict[str, torch.Tensor], module: str, output: torch.Tensor):\n",
    "    \"\"\"\n",
    "    Saving cached attention hidden states for previous tokens.\n",
    "    Parameters:\n",
    "      cache: dictionary with cache.\n",
    "      module: current attention module name.\n",
    "      output: predicted hidden state.\n",
    "    Returns:\n",
    "      output: cached attention hidden state for specified attention module.\n",
    "    \"\"\"\n",
    "    if module not in cache or output.shape[1] > positional_embeddings_size:\n",
    "        # save as-is, for the first token or cross attention\n",
    "        cache[module] = output\n",
    "    else:\n",
    "        cache[module] = torch.cat([cache[module], output], dim=1).detach()\n",
    "    return cache[module]\n",
    "\n",
    "\n",
    "def attention_forward(\n",
    "        attention_module,\n",
    "        x: torch.Tensor,\n",
    "        xa: Optional[torch.Tensor] = None,\n",
    "        mask: Optional[torch.Tensor] = None,\n",
    "        kv_cache: Optional[dict] = None,\n",
    "        idx: int = 0\n",
    "):\n",
    "    \"\"\"\n",
    "    Override for forward method of decoder attention module with storing cache values explicitly.\n",
    "    Parameters:\n",
    "      attention_module: current attention module\n",
    "      x: input token ids.\n",
    "      xa: input audio features (Optional).\n",
    "      mask: mask for applying attention (Optional).\n",
    "      kv_cache: dictionary with cached key values for attention modules.\n",
    "      idx: idx for search in kv_cache.\n",
    "    Returns:\n",
    "      attention module output tensor\n",
    "      updated kv_cache\n",
    "    \"\"\"\n",
    "    q = attention_module.query(x)\n",
    "\n",
    "    if kv_cache is None or xa is None:\n",
    "        # hooks, if installed (i.e. kv_cache is not None), will prepend the cached kv tensors;\n",
    "        # otherwise, perform key/value projections for self- or cross-attention as usual.\n",
    "        k = attention_module.key(x if xa is None else xa)\n",
    "        v = attention_module.value(x if xa is None else xa)\n",
    "        if kv_cache is not None:\n",
    "            k = save_to_cache(kv_cache, f'k_{idx}', k)\n",
    "            v = save_to_cache(kv_cache, f'v_{idx}', v)\n",
    "    else:\n",
    "        # for cross-attention, calculate keys and values once and reuse in subsequent calls.\n",
    "        k = kv_cache.get(f'k_{idx}', save_to_cache(\n",
    "            kv_cache, f'k_{idx}', attention_module.key(xa)))\n",
    "        v = kv_cache.get(f'v_{idx}', save_to_cache(\n",
    "            kv_cache, f'v_{idx}', attention_module.value(xa)))\n",
    "\n",
    "    wv, qk = attention_module.qkv_attention(q, k, v, mask)\n",
    "    return attention_module.out(wv), kv_cache\n",
    "\n",
    "\n",
    "def block_forward(\n",
    "    residual_block,\n",
    "    x: torch.Tensor,\n",
    "    xa: Optional[torch.Tensor] = None,\n",
    "    mask: Optional[torch.Tensor] = None,\n",
    "    kv_cache: Optional[dict] = None,\n",
    "    idx: int = 0\n",
    "):\n",
    "    \"\"\"\n",
    "    Override for residual block forward method for providing kv_cache to attention module.\n",
    "      Parameters:\n",
    "        residual_block: current residual block.\n",
    "        x: input token_ids.\n",
    "        xa: input audio features (Optional).\n",
    "        mask: attention mask (Optional).\n",
    "        kv_cache: cache for storing attention key values.\n",
    "        idx: index of current residual block for search in kv_cache.\n",
    "      Returns:\n",
    "        x: residual block output\n",
    "        kv_cache: updated kv_cache\n",
    "\n",
    "    \"\"\"\n",
    "    x0, kv_cache = residual_block.attn(residual_block.attn_ln(\n",
    "        x), mask=mask, kv_cache=kv_cache, idx=f'{idx}a')\n",
    "    x = x + x0\n",
    "    if residual_block.cross_attn:\n",
    "        x1, kv_cache = residual_block.cross_attn(\n",
    "            residual_block.cross_attn_ln(x), xa, kv_cache=kv_cache, idx=f'{idx}c')\n",
    "        x = x + x1\n",
    "    x = x + residual_block.mlp(residual_block.mlp_ln(x))\n",
    "    return x, kv_cache\n",
    "\n",
    "\n",
    "# update forward functions\n",
    "for idx, block in enumerate(model.decoder.blocks):\n",
    "    block.forward = partial(block_forward, block, idx=idx)\n",
    "    block.attn.forward = partial(attention_forward, block.attn)\n",
    "    if block.cross_attn:\n",
    "        block.cross_attn.forward = partial(attention_forward, block.cross_attn)\n",
    "\n",
    "\n",
    "def decoder_forward(decoder, x: torch.Tensor, xa: torch.Tensor, kv_cache: Optional[dict] = None):\n",
    "    \"\"\"\n",
    "    Override for decoder forward method.\n",
    "    Parameters:\n",
    "      x: torch.LongTensor, shape = (batch_size, <= n_ctx) the text tokens\n",
    "      xa: torch.Tensor, shape = (batch_size, n_mels, n_audio_ctx)\n",
    "           the encoded audio features to be attended on\n",
    "      kv_cache: Dict[str, torch.Tensor], attention modules hidden states cache from previous steps \n",
    "    \"\"\"\n",
    "    offset = next(iter(kv_cache.values())).shape[1] if kv_cache else 0\n",
    "    x = decoder.token_embedding(\n",
    "        x) + decoder.positional_embedding[offset: offset + x.shape[-1]]\n",
    "    x = x.to(xa.dtype)\n",
    "\n",
    "    for block in decoder.blocks:\n",
    "        x, kv_cache = block(x, xa, mask=decoder.mask, kv_cache=kv_cache)\n",
    "\n",
    "    x = decoder.ln(x)\n",
    "    logits = (\n",
    "        x @ torch.transpose(decoder.token_embedding.weight.to(x.dtype), 1, 0)).float()\n",
    "\n",
    "    return logits, kv_cache\n",
    "\n",
    "\n",
    "# override decoder forward\n",
    "model.decoder.forward = partial(decoder_forward, model.decoder)"
   ]
  },
  {
   "cell_type": "code",
   "execution_count": 8,
   "metadata": {
    "ExecuteTime": {
     "end_time": "2023-05-29T16:20:54.893175Z",
     "start_time": "2023-05-29T16:20:54.806315Z"
    }
   },
   "outputs": [],
   "source": [
    "tokens = torch.ones((5, 3), dtype=torch.int64)\n",
    "\n",
    "logits, kv_cache = model.decoder(tokens, audio_features, kv_cache={})\n",
    "kv_cache = {k: v for k, v in kv_cache.items()}\n",
    "tokens = torch.ones((5, 1), dtype=torch.int64)"
   ]
  },
  {
   "cell_type": "code",
   "execution_count": 9,
   "metadata": {
    "ExecuteTime": {
     "end_time": "2023-05-29T16:20:56.808839Z",
     "start_time": "2023-05-29T16:20:54.891307Z"
    }
   },
   "outputs": [
    {
     "name": "stderr",
     "output_type": "stream",
     "text": [
      "/tmp/ipykernel_107445/1737529362.py:18: TracerWarning: Converting a tensor to a Python boolean might cause the trace to be incorrect. We can't record the data flow of Python values, so this value will be treated as a constant in the future. This means that the trace might not generalize to other inputs!\n",
      "  if module not in cache or output.shape[1] > positional_embeddings_size:\n"
     ]
    }
   ],
   "source": [
    "outputs = [f\"out_{k}\" for k in kv_cache.keys()]\n",
    "inputs = [f\"in_{k}\" for k in kv_cache.keys()]\n",
    "dynamic_axes = {\n",
    "    \"tokens\": {0: \"beam_size\", 1: \"seq_len\"},\n",
    "    \"audio_features\": {0: \"beam_size\"},\n",
    "    \"logits\": {0: \"beam_size\", 1: \"seq_len\"}}\n",
    "dynamic_outs = {o: {0: \"beam_size\", 1: \"prev_seq_len\"} for o in outputs}\n",
    "dynamic_inp = {i: {0: \"beam_size\", 1: \"prev_seq_len\"} for i in inputs}\n",
    "dynamic_axes.update(dynamic_outs)\n",
    "dynamic_axes.update(dynamic_inp)\n",
    "if not WHISPER_DECODER_OV.exists():\n",
    "    torch.onnx.export(\n",
    "        model.decoder, {'x': tokens, 'xa': audio_features, 'kv_cache': kv_cache},\n",
    "        'whisper_decoder.onnx',\n",
    "        input_names=[\"tokens\", \"audio_features\"] + inputs,\n",
    "        output_names=[\"logits\"] + outputs,\n",
    "        dynamic_axes=dynamic_axes\n",
    "    )"
   ]
  },
  {
   "cell_type": "markdown",
   "metadata": {},
   "source": [
    "The decoder model autoregressively predicts the next token guided by encoder hidden states and previously predicted sequence. This means that the shape of inputs which depends on the previous step (inputs for tokens and attention hidden states from previous step) are dynamic. For efficient utilization of memory, you define an upper bound for dynamic input shapes."
   ]
  },
  {
   "cell_type": "code",
   "execution_count": 10,
   "metadata": {},
   "outputs": [
    {
     "name": "stdout",
     "output_type": "stream",
     "text": [
      "Decoder ONNX 輸入形狀： {'tokens': [0, 0], 'audio_features': [0, 1500, 768], 'in_k_0a': [0, 0, 768], 'in_v_0a': [0, 0, 768], 'in_k_1a': [0, 0, 768], 'in_v_1a': [0, 0, 768], 'in_k_2a': [0, 0, 768], 'in_v_2a': [0, 0, 768], 'in_k_3a': [0, 0, 768], 'in_v_3a': [0, 0, 768], 'in_k_4a': [0, 0, 768], 'in_v_4a': [0, 0, 768], 'in_k_5a': [0, 0, 768], 'in_v_5a': [0, 0, 768], 'in_k_6a': [0, 0, 768], 'in_v_6a': [0, 0, 768], 'in_k_7a': [0, 0, 768], 'in_v_7a': [0, 0, 768], 'in_k_8a': [0, 0, 768], 'in_v_8a': [0, 0, 768], 'in_k_9a': [0, 0, 768], 'in_v_9a': [0, 0, 768], 'in_k_10a': [0, 0, 768], 'in_v_10a': [0, 0, 768], 'in_k_11a': [0, 0, 768], 'in_v_11a': [0, 0, 768]}\n"
     ]
    }
   ],
   "source": [
    "import onnx\n",
    "\n",
    "def get_input_shapes(onnx_model_path):\n",
    "    input_shapes = {}\n",
    "    model = onnx.load(onnx_model_path)\n",
    "    for input in model.graph.input:\n",
    "        input_name = input.name\n",
    "        input_shape = [dim.dim_value for dim in input.type.tensor_type.shape.dim]\n",
    "        input_shapes[input_name] = input_shape\n",
    "    return input_shapes\n",
    "\n",
    "# 使用範例\n",
    "onnx_model_path = \"whisper_decoder.onnx\"\n",
    "input_shapes = get_input_shapes(onnx_model_path)\n",
    "print(\"Decoder ONNX 輸入形狀：\", input_shapes)"
   ]
  },
  {
   "cell_type": "code",
   "execution_count": 11,
   "metadata": {
    "ExecuteTime": {
     "end_time": "2023-05-29T16:20:58.157468Z",
     "start_time": "2023-05-29T16:20:56.810465Z"
    }
   },
   "outputs": [
    {
     "name": "stderr",
     "output_type": "stream",
     "text": [
      "Warning: One or more of the values of the Constant can't fit in the float16 data type. Those values were casted to the nearest limit value, the model can produce incorrect results.\n"
     ]
    }
   ],
   "source": [
    "\n",
    "input_shapes = \"tokens[1..11 1..600],audio_features[1..11 1500 768]\"\n",
    "for k, v in kv_cache.items():\n",
    "    if k.endswith('a'):\n",
    "        input_shapes += f\",in_{k}[1..11 0..600 768]\"\n",
    "if not WHISPER_DECODER_OV.exists():\n",
    "    decoder_model = mo.convert_model(\n",
    "        input_model=\"whisper_decoder.onnx\",\n",
    "        compress_to_fp16=True,\n",
    "        input=input_shapes)\n",
    "    serialize(decoder_model, \"whisper_decoder.xml\")"
   ]
  }
 ],
 "metadata": {
  "kernelspec": {
   "display_name": "Python 3 (ipykernel)",
   "language": "python",
   "name": "python3"
  },
  "language_info": {
   "codemirror_mode": {
    "name": "ipython",
    "version": 3
   },
   "file_extension": ".py",
   "mimetype": "text/x-python",
   "name": "python",
   "nbconvert_exporter": "python",
   "pygments_lexer": "ipython3",
   "version": "3.10.13"
  },
  "vscode": {
   "interpreter": {
    "hash": "916dbcbb3f70747c44a77c7bcd40155683ae19c65e1c03b4aa3499c5328201f1"
   }
  }
 },
 "nbformat": 4,
 "nbformat_minor": 4
}
