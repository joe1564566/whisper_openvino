{
 "cells": [
  {
   "cell_type": "markdown",
   "metadata": {},
   "source": [
    "# Video Subtitle Generation using Whisper and OpenVINO™\n",
    "\n",
    "[Whisper](https://openai.com/blog/whisper/) is an automatic speech recognition (ASR) system trained on 680,000 hours of multilingual and multitask supervised data collected from the web. It is a multi-task model that can perform multilingual speech recognition as well as speech translation and language identification.\n",
    "\n",
    "![asr-training-data-desktop.svg](https://user-images.githubusercontent.com/29454499/204536347-28976978-9a07-416c-acff-fc1214bbfbe0.svg)\n",
    "\n",
    "You can find more information about this model in the [research paper](https://cdn.openai.com/papers/whisper.pdf), [OpenAI blog](https://openai.com/blog/whisper/), [model card](https://github.com/openai/whisper/blob/main/model-card.md) and GitHub [repository](https://github.com/openai/whisper).\n",
    "\n",
    "In this notebook, we will use Whisper with OpenVINO to generate subtitles in a sample video.\n",
    "Notebook contains the following steps:\n",
    "1. Download the model.\n",
    "2. Instantiate the PyTorch model pipeline.\n",
    "3. Export the ONNX model and convert it to OpenVINO IR, using the Model Optimizer tool.\n",
    "4. Run the Whisper pipeline with OpenVINO models."
   ]
  },
  {
   "cell_type": "markdown",
   "metadata": {},
   "source": [
    "## Prerequisites"
   ]
  },
  {
   "cell_type": "markdown",
   "metadata": {},
   "source": [
    "Clone and install the model repository."
   ]
  },
  {
   "cell_type": "code",
   "execution_count": 1,
   "metadata": {
    "ExecuteTime": {
     "end_time": "2023-05-29T16:20:41.206956Z",
     "start_time": "2023-05-29T16:20:39.327474Z"
    }
   },
   "outputs": [],
   "source": [
    "!pip install -q \"python-ffmpeg<=1.0.16\" moviepy"
   ]
  },
  {
   "cell_type": "code",
   "execution_count": 2,
   "metadata": {
    "ExecuteTime": {
     "end_time": "2023-05-29T16:20:46.508660Z",
     "start_time": "2023-05-29T16:20:41.209097Z"
    },
    "tags": []
   },
   "outputs": [],
   "source": [
    "!pip install -q -I \"git+https://github.com/garywu007/pytube.git\"\n",
    "!pip install -q pydub"
   ]
  },
  {
   "cell_type": "code",
   "execution_count": 3,
   "metadata": {
    "ExecuteTime": {
     "end_time": "2023-05-29T16:20:51.013411Z",
     "start_time": "2023-05-29T16:20:46.511506Z"
    }
   },
   "outputs": [
    {
     "name": "stdout",
     "output_type": "stream",
     "text": [
      "/home/ff/Desktop/whisper_openvino/notebooks/whisper_test/whisper\n",
      "/home/ff/Desktop/whisper_openvino/notebooks/whisper_test/whisper/setup.py:3: DeprecationWarning: pkg_resources is deprecated as an API. See https://setuptools.pypa.io/en/latest/pkg_resources.html\n",
      "  import pkg_resources\n",
      "/home/ff/miniconda3/envs/whisper/lib/python3.10/site-packages/setuptools/_distutils/dist.py:265: UserWarning: Unknown distribution option: 'readme'\n",
      "  warnings.warn(msg)\n",
      "running develop\n",
      "/home/ff/miniconda3/envs/whisper/lib/python3.10/site-packages/setuptools/command/develop.py:40: EasyInstallDeprecationWarning: easy_install command is deprecated.\n",
      "!!\n",
      "\n",
      "        ********************************************************************************\n",
      "        Please avoid running ``setup.py`` and ``easy_install``.\n",
      "        Instead, use pypa/build, pypa/installer or other\n",
      "        standards-based tools.\n",
      "\n",
      "        See https://github.com/pypa/setuptools/issues/917 for details.\n",
      "        ********************************************************************************\n",
      "\n",
      "!!\n",
      "  easy_install.initialize_options(self)\n",
      "/home/ff/miniconda3/envs/whisper/lib/python3.10/site-packages/setuptools/_distutils/cmd.py:66: SetuptoolsDeprecationWarning: setup.py install is deprecated.\n",
      "!!\n",
      "\n",
      "        ********************************************************************************\n",
      "        Please avoid running ``setup.py`` directly.\n",
      "        Instead, use pypa/build, pypa/installer or other\n",
      "        standards-based tools.\n",
      "\n",
      "        See https://blog.ganssle.io/articles/2021/10/setup-py-deprecated.html for details.\n",
      "        ********************************************************************************\n",
      "\n",
      "!!\n",
      "  self.initialize_options()\n"
     ]
    },
    {
     "name": "stderr",
     "output_type": "stream",
     "text": [
      "/home/ff/miniconda3/envs/whisper/lib/python3.10/site-packages/IPython/core/magics/osm.py:417: UserWarning: This is now an optional IPython functionality, setting dhist requires you to install the `pickleshare` library.\n",
      "  self.shell.db['dhist'] = compress_dhist(dhist)[-100:]\n"
     ]
    },
    {
     "name": "stdout",
     "output_type": "stream",
     "text": [
      "running egg_info\n",
      "writing openai_whisper.egg-info/PKG-INFO\n",
      "writing dependency_links to openai_whisper.egg-info/dependency_links.txt\n",
      "writing entry points to openai_whisper.egg-info/entry_points.txt\n",
      "writing requirements to openai_whisper.egg-info/requires.txt\n",
      "writing top-level names to openai_whisper.egg-info/top_level.txt\n",
      "file whisper.py (for module whisper) not found\n",
      "reading manifest file 'openai_whisper.egg-info/SOURCES.txt'\n",
      "reading manifest template 'MANIFEST.in'\n",
      "adding license file 'LICENSE'\n",
      "writing manifest file 'openai_whisper.egg-info/SOURCES.txt'\n",
      "running build_ext\n",
      "Creating /home/ff/miniconda3/envs/whisper/lib/python3.10/site-packages/openai-whisper.egg-link (link to .)\n",
      "openai-whisper 20230124 is already the active version in easy-install.pth\n",
      "Installing whisper script to /home/ff/miniconda3/envs/whisper/bin\n",
      "\n",
      "Installed /home/ff/Desktop/whisper_openvino/notebooks/whisper_test/whisper\n",
      "Processing dependencies for openai-whisper==20230124\n",
      "Searching for ffmpeg-python==0.2.0\n",
      "Best match: ffmpeg-python 0.2.0\n",
      "Processing ffmpeg_python-0.2.0-py3.10.egg\n",
      "Adding ffmpeg-python 0.2.0 to easy-install.pth file\n",
      "\n",
      "Using /home/ff/miniconda3/envs/whisper/lib/python3.10/site-packages/ffmpeg_python-0.2.0-py3.10.egg\n",
      "Searching for transformers==4.39.1\n",
      "Best match: transformers 4.39.1\n",
      "Adding transformers 4.39.1 to easy-install.pth file\n",
      "Installing transformers-cli script to /home/ff/miniconda3/envs/whisper/bin\n",
      "\n",
      "Using /home/ff/miniconda3/envs/whisper/lib/python3.10/site-packages\n",
      "Searching for more-itertools==10.2.0\n",
      "Best match: more-itertools 10.2.0\n",
      "Processing more_itertools-10.2.0-py3.10.egg\n",
      "Adding more-itertools 10.2.0 to easy-install.pth file\n",
      "\n",
      "Using /home/ff/miniconda3/envs/whisper/lib/python3.10/site-packages/more_itertools-10.2.0-py3.10.egg\n",
      "Searching for tqdm==4.66.2\n",
      "Best match: tqdm 4.66.2\n",
      "Adding tqdm 4.66.2 to easy-install.pth file\n",
      "Installing tqdm script to /home/ff/miniconda3/envs/whisper/bin\n",
      "\n",
      "Using /home/ff/miniconda3/envs/whisper/lib/python3.10/site-packages\n",
      "Searching for torch==1.13.1+cpu\n",
      "Best match: torch 1.13.1+cpu\n",
      "Adding torch 1.13.1+cpu to easy-install.pth file\n",
      "Installing convert-caffe2-to-onnx script to /home/ff/miniconda3/envs/whisper/bin\n",
      "Installing convert-onnx-to-caffe2 script to /home/ff/miniconda3/envs/whisper/bin\n",
      "Installing torchrun script to /home/ff/miniconda3/envs/whisper/bin\n",
      "\n",
      "Using /home/ff/miniconda3/envs/whisper/lib/python3.10/site-packages\n",
      "Searching for numpy==1.23.4\n",
      "Best match: numpy 1.23.4\n",
      "Adding numpy 1.23.4 to easy-install.pth file\n",
      "Installing f2py script to /home/ff/miniconda3/envs/whisper/bin\n",
      "Installing f2py3 script to /home/ff/miniconda3/envs/whisper/bin\n",
      "Installing f2py3.10 script to /home/ff/miniconda3/envs/whisper/bin\n",
      "\n",
      "Using /home/ff/miniconda3/envs/whisper/lib/python3.10/site-packages\n",
      "Searching for future==1.0.0\n",
      "Best match: future 1.0.0\n",
      "Adding future 1.0.0 to easy-install.pth file\n",
      "Installing futurize script to /home/ff/miniconda3/envs/whisper/bin\n",
      "Installing pasteurize script to /home/ff/miniconda3/envs/whisper/bin\n",
      "\n",
      "Using /home/ff/miniconda3/envs/whisper/lib/python3.10/site-packages\n",
      "Searching for safetensors==0.4.2\n",
      "Best match: safetensors 0.4.2\n",
      "Adding safetensors 0.4.2 to easy-install.pth file\n",
      "\n",
      "Using /home/ff/miniconda3/envs/whisper/lib/python3.10/site-packages\n",
      "Searching for tokenizers==0.15.2\n",
      "Best match: tokenizers 0.15.2\n",
      "Adding tokenizers 0.15.2 to easy-install.pth file\n",
      "\n",
      "Using /home/ff/miniconda3/envs/whisper/lib/python3.10/site-packages\n",
      "Searching for requests==2.31.0\n",
      "Best match: requests 2.31.0\n",
      "Adding requests 2.31.0 to easy-install.pth file\n",
      "\n",
      "Using /home/ff/miniconda3/envs/whisper/lib/python3.10/site-packages\n",
      "Searching for regex==2023.12.25\n",
      "Best match: regex 2023.12.25\n",
      "Adding regex 2023.12.25 to easy-install.pth file\n",
      "\n",
      "Using /home/ff/miniconda3/envs/whisper/lib/python3.10/site-packages\n",
      "Searching for PyYAML==6.0.1\n",
      "Best match: PyYAML 6.0.1\n",
      "Adding PyYAML 6.0.1 to easy-install.pth file\n",
      "\n",
      "Using /home/ff/miniconda3/envs/whisper/lib/python3.10/site-packages\n",
      "Searching for packaging==24.0\n",
      "Best match: packaging 24.0\n",
      "Adding packaging 24.0 to easy-install.pth file\n",
      "\n",
      "Using /home/ff/miniconda3/envs/whisper/lib/python3.10/site-packages\n",
      "Searching for huggingface-hub==0.22.1\n",
      "Best match: huggingface-hub 0.22.1\n",
      "Adding huggingface-hub 0.22.1 to easy-install.pth file\n",
      "Installing huggingface-cli script to /home/ff/miniconda3/envs/whisper/bin\n",
      "\n",
      "Using /home/ff/miniconda3/envs/whisper/lib/python3.10/site-packages\n",
      "Searching for filelock==3.13.3\n",
      "Best match: filelock 3.13.3\n",
      "Adding filelock 3.13.3 to easy-install.pth file\n",
      "\n",
      "Using /home/ff/miniconda3/envs/whisper/lib/python3.10/site-packages\n",
      "Searching for typing-extensions==4.10.0\n",
      "Best match: typing-extensions 4.10.0\n",
      "Adding typing-extensions 4.10.0 to easy-install.pth file\n",
      "\n",
      "Using /home/ff/miniconda3/envs/whisper/lib/python3.10/site-packages\n",
      "Searching for certifi==2024.2.2\n",
      "Best match: certifi 2024.2.2\n",
      "Adding certifi 2024.2.2 to easy-install.pth file\n",
      "\n",
      "Using /home/ff/miniconda3/envs/whisper/lib/python3.10/site-packages\n",
      "Searching for urllib3==2.2.1\n",
      "Best match: urllib3 2.2.1\n",
      "Adding urllib3 2.2.1 to easy-install.pth file\n",
      "\n",
      "Using /home/ff/miniconda3/envs/whisper/lib/python3.10/site-packages\n",
      "Searching for idna==3.6\n",
      "Best match: idna 3.6\n",
      "Adding idna 3.6 to easy-install.pth file\n",
      "\n",
      "Using /home/ff/miniconda3/envs/whisper/lib/python3.10/site-packages\n",
      "Searching for charset-normalizer==3.3.2\n",
      "Best match: charset-normalizer 3.3.2\n",
      "Adding charset-normalizer 3.3.2 to easy-install.pth file\n",
      "Installing normalizer script to /home/ff/miniconda3/envs/whisper/bin\n",
      "\n",
      "Using /home/ff/miniconda3/envs/whisper/lib/python3.10/site-packages\n",
      "Searching for fsspec==2024.3.1\n",
      "Best match: fsspec 2024.3.1\n",
      "Adding fsspec 2024.3.1 to easy-install.pth file\n",
      "\n",
      "Using /home/ff/miniconda3/envs/whisper/lib/python3.10/site-packages\n",
      "Finished processing dependencies for openai-whisper==20230124\n"
     ]
    }
   ],
   "source": [
    "from pathlib import Path\n",
    "\n",
    "REPO_DIR = Path(\"whisper\")\n",
    "if not REPO_DIR.exists():\n",
    "    !git clone https://github.com/openai/whisper.git -b v20230124\n",
    "%cd whisper\n",
    "!python setup.py develop"
   ]
  },
  {
   "cell_type": "markdown",
   "metadata": {},
   "source": [
    "## Instantiate model\n",
    "Whisper is a Transformer based encoder-decoder model, also referred to as a sequence-to-sequence model. It maps a sequence of audio spectrogram features to a sequence of text tokens. First, the raw audio inputs are converted to a log-Mel spectrogram by action of the feature extractor. Then, the Transformer encoder encodes the spectrogram to form a sequence of encoder hidden states. Finally, the decoder autoregressively predicts text tokens, conditional on both the previous tokens and the encoder hidden states.\n",
    "\n",
    "You can see the model architecture in the diagram below:\n",
    "\n",
    "![whisper_architecture.svg](https://user-images.githubusercontent.com/29454499/204536571-8f6d8d77-5fbd-4c6d-8e29-14e734837860.svg)\n"
   ]
  },
  {
   "cell_type": "markdown",
   "metadata": {},
   "source": [
    "There are several models of different sizes and capabilities trained by the authors of the model. In this tutorial, we will use the `base` model, but the same actions are also applicable to other models from Whisper family."
   ]
  },
  {
   "cell_type": "code",
   "execution_count": 4,
   "metadata": {
    "ExecuteTime": {
     "end_time": "2023-05-29T16:20:52.551020Z",
     "start_time": "2023-05-29T16:20:51.014974Z"
    }
   },
   "outputs": [],
   "source": [
    "import whisper\n",
    "\n",
    "model = whisper.load_model(\"small\")\n",
    "model.to(\"cpu\")\n",
    "model.eval()\n",
    "pass"
   ]
  },
  {
   "cell_type": "markdown",
   "metadata": {},
   "source": [
    "### Convert model to OpenVINO Intermediate Representation (IR) format.\n",
    "\n",
    "For best results with OpenVINO, it is recommended to convert the model to OpenVINO IR format. OpenVINO supports PyTorch via ONNX conversion. We will use `torch.onnx.export` for exporting the ONNX model from PyTorch. We need to provide initialized model object and example of inputs for shape inference. We will use `mo.convert_model` functionality to convert the ONNX models. The `mo.convert_model` Python function returns an OpenVINO model ready to load on device and start making predictions. We can save it on disk for next usage with `openvino.runtime.serialize`.\n"
   ]
  },
  {
   "cell_type": "markdown",
   "metadata": {},
   "source": [
    "### Convert Whisper Encoder to OpenVINO IR"
   ]
  },
  {
   "cell_type": "code",
   "execution_count": 5,
   "metadata": {},
   "outputs": [],
   "source": [
    "from pathlib import Path\n",
    "\n",
    "WHISPER_ENCODER_OV = Path(f\"whisper_encoder.xml\")\n",
    "WHISPER_DECODER_OV = Path(f\"whisper_decoder.xml\")"
   ]
  },
  {
   "cell_type": "code",
   "execution_count": 6,
   "metadata": {
    "ExecuteTime": {
     "end_time": "2023-05-29T16:20:54.789255Z",
     "start_time": "2023-05-29T16:20:52.553552Z"
    }
   },
   "outputs": [],
   "source": [
    "import torch\n",
    "from openvino.tools import mo\n",
    "from openvino.runtime import serialize\n",
    "mel = torch.zeros((1, 80, 3000))\n",
    "audio_features = model.encoder(mel)\n",
    "if not WHISPER_ENCODER_OV.exists():\n",
    "    torch.onnx.export(\n",
    "        model.encoder, \n",
    "        mel, \n",
    "        \"whisper_encoder.onnx\",\n",
    "        input_names=[\"mel\"], \n",
    "        output_names=[\"output_features\"]\n",
    "    )\n",
    "    encoder_model = mo.convert_model(\"whisper_encoder.onnx\", compress_to_fp16=True)\n",
    "    serialize(encoder_model, xml_path=\"whisper_encoder.xml\")"
   ]
  },
  {
   "cell_type": "markdown",
   "metadata": {},
   "source": [
    "### Convert Whisper decoder to OpenVINO IR\n",
    "\n",
    "To reduce computational complexity, the decoder uses cached key/value projections in attention modules from the previous steps. We need to modify this process for correct tracing to ONNX."
   ]
  },
  {
   "cell_type": "code",
   "execution_count": 7,
   "metadata": {
    "ExecuteTime": {
     "end_time": "2023-05-29T16:20:54.809679Z",
     "start_time": "2023-05-29T16:20:54.802553Z"
    }
   },
   "outputs": [],
   "source": [
    "import torch\n",
    "from typing import Optional, Union, List, Dict\n",
    "from functools import partial\n",
    "\n",
    "positional_embeddings_size = model.decoder.positional_embedding.shape[0]\n",
    "\n",
    "\n",
    "def save_to_cache(cache: Dict[str, torch.Tensor], module: str, output: torch.Tensor):\n",
    "    \"\"\"\n",
    "    Saving cached attention hidden states for previous tokens.\n",
    "    Parameters:\n",
    "      cache: dictionary with cache.\n",
    "      module: current attention module name.\n",
    "      output: predicted hidden state.\n",
    "    Returns:\n",
    "      output: cached attention hidden state for specified attention module.\n",
    "    \"\"\"\n",
    "    if module not in cache or output.shape[1] > positional_embeddings_size:\n",
    "        # save as-is, for the first token or cross attention\n",
    "        cache[module] = output\n",
    "    else:\n",
    "        cache[module] = torch.cat([cache[module], output], dim=1).detach()\n",
    "    return cache[module]\n",
    "\n",
    "\n",
    "def attention_forward(\n",
    "        attention_module,\n",
    "        x: torch.Tensor,\n",
    "        xa: Optional[torch.Tensor] = None,\n",
    "        mask: Optional[torch.Tensor] = None,\n",
    "        kv_cache: Optional[dict] = None,\n",
    "        idx: int = 0\n",
    "):\n",
    "    \"\"\"\n",
    "    Override for forward method of decoder attention module with storing cache values explicitly.\n",
    "    Parameters:\n",
    "      attention_module: current attention module\n",
    "      x: input token ids.\n",
    "      xa: input audio features (Optional).\n",
    "      mask: mask for applying attention (Optional).\n",
    "      kv_cache: dictionary with cached key values for attention modules.\n",
    "      idx: idx for search in kv_cache.\n",
    "    Returns:\n",
    "      attention module output tensor\n",
    "      updated kv_cache\n",
    "    \"\"\"\n",
    "    q = attention_module.query(x)\n",
    "\n",
    "    if kv_cache is None or xa is None:\n",
    "        # hooks, if installed (i.e. kv_cache is not None), will prepend the cached kv tensors;\n",
    "        # otherwise, perform key/value projections for self- or cross-attention as usual.\n",
    "        k = attention_module.key(x if xa is None else xa)\n",
    "        v = attention_module.value(x if xa is None else xa)\n",
    "        if kv_cache is not None:\n",
    "            k = save_to_cache(kv_cache, f'k_{idx}', k)\n",
    "            v = save_to_cache(kv_cache, f'v_{idx}', v)\n",
    "    else:\n",
    "        # for cross-attention, calculate keys and values once and reuse in subsequent calls.\n",
    "        k = kv_cache.get(f'k_{idx}', save_to_cache(\n",
    "            kv_cache, f'k_{idx}', attention_module.key(xa)))\n",
    "        v = kv_cache.get(f'v_{idx}', save_to_cache(\n",
    "            kv_cache, f'v_{idx}', attention_module.value(xa)))\n",
    "\n",
    "    wv, qk = attention_module.qkv_attention(q, k, v, mask)\n",
    "    return attention_module.out(wv), kv_cache\n",
    "\n",
    "\n",
    "def block_forward(\n",
    "    residual_block,\n",
    "    x: torch.Tensor,\n",
    "    xa: Optional[torch.Tensor] = None,\n",
    "    mask: Optional[torch.Tensor] = None,\n",
    "    kv_cache: Optional[dict] = None,\n",
    "    idx: int = 0\n",
    "):\n",
    "    \"\"\"\n",
    "    Override for residual block forward method for providing kv_cache to attention module.\n",
    "      Parameters:\n",
    "        residual_block: current residual block.\n",
    "        x: input token_ids.\n",
    "        xa: input audio features (Optional).\n",
    "        mask: attention mask (Optional).\n",
    "        kv_cache: cache for storing attention key values.\n",
    "        idx: index of current residual block for search in kv_cache.\n",
    "      Returns:\n",
    "        x: residual block output\n",
    "        kv_cache: updated kv_cache\n",
    "\n",
    "    \"\"\"\n",
    "    x0, kv_cache = residual_block.attn(residual_block.attn_ln(\n",
    "        x), mask=mask, kv_cache=kv_cache, idx=f'{idx}a')\n",
    "    x = x + x0\n",
    "    if residual_block.cross_attn:\n",
    "        x1, kv_cache = residual_block.cross_attn(\n",
    "            residual_block.cross_attn_ln(x), xa, kv_cache=kv_cache, idx=f'{idx}c')\n",
    "        x = x + x1\n",
    "    x = x + residual_block.mlp(residual_block.mlp_ln(x))\n",
    "    return x, kv_cache\n",
    "\n",
    "\n",
    "# update forward functions\n",
    "for idx, block in enumerate(model.decoder.blocks):\n",
    "    block.forward = partial(block_forward, block, idx=idx)\n",
    "    block.attn.forward = partial(attention_forward, block.attn)\n",
    "    if block.cross_attn:\n",
    "        block.cross_attn.forward = partial(attention_forward, block.cross_attn)\n",
    "\n",
    "\n",
    "def decoder_forward(decoder, x: torch.Tensor, xa: torch.Tensor, kv_cache: Optional[dict] = None):\n",
    "    \"\"\"\n",
    "    Override for decoder forward method.\n",
    "    Parameters:\n",
    "      x: torch.LongTensor, shape = (batch_size, <= n_ctx) the text tokens\n",
    "      xa: torch.Tensor, shape = (batch_size, n_mels, n_audio_ctx)\n",
    "           the encoded audio features to be attended on\n",
    "      kv_cache: Dict[str, torch.Tensor], attention modules hidden states cache from previous steps \n",
    "    \"\"\"\n",
    "    offset = next(iter(kv_cache.values())).shape[1] if kv_cache else 0\n",
    "    x = decoder.token_embedding(\n",
    "        x) + decoder.positional_embedding[offset: offset + x.shape[-1]]\n",
    "    x = x.to(xa.dtype)\n",
    "\n",
    "    for block in decoder.blocks:\n",
    "        x, kv_cache = block(x, xa, mask=decoder.mask, kv_cache=kv_cache)\n",
    "\n",
    "    x = decoder.ln(x)\n",
    "    logits = (\n",
    "        x @ torch.transpose(decoder.token_embedding.weight.to(x.dtype), 1, 0)).float()\n",
    "\n",
    "    return logits, kv_cache\n",
    "\n",
    "\n",
    "# override decoder forward\n",
    "model.decoder.forward = partial(decoder_forward, model.decoder)"
   ]
  },
  {
   "cell_type": "code",
   "execution_count": 8,
   "metadata": {
    "ExecuteTime": {
     "end_time": "2023-05-29T16:20:54.893175Z",
     "start_time": "2023-05-29T16:20:54.806315Z"
    }
   },
   "outputs": [],
   "source": [
    "tokens = torch.ones((5, 3), dtype=torch.int64)\n",
    "\n",
    "logits, kv_cache = model.decoder(tokens, audio_features, kv_cache={})\n",
    "kv_cache = {k: v for k, v in kv_cache.items()}\n",
    "tokens = torch.ones((5, 1), dtype=torch.int64)"
   ]
  },
  {
   "cell_type": "code",
   "execution_count": 9,
   "metadata": {
    "ExecuteTime": {
     "end_time": "2023-05-29T16:20:56.808839Z",
     "start_time": "2023-05-29T16:20:54.891307Z"
    }
   },
   "outputs": [],
   "source": [
    "outputs = [f\"out_{k}\" for k in kv_cache.keys()]\n",
    "inputs = [f\"in_{k}\" for k in kv_cache.keys()]\n",
    "dynamic_axes = {\n",
    "    \"tokens\": {0: \"beam_size\", 1: \"seq_len\"},\n",
    "    \"audio_features\": {0: \"beam_size\"},\n",
    "    \"logits\": {0: \"beam_size\", 1: \"seq_len\"}}\n",
    "dynamic_outs = {o: {0: \"beam_size\", 1: \"prev_seq_len\"} for o in outputs}\n",
    "dynamic_inp = {i: {0: \"beam_size\", 1: \"prev_seq_len\"} for i in inputs}\n",
    "dynamic_axes.update(dynamic_outs)\n",
    "dynamic_axes.update(dynamic_inp)\n",
    "if not WHISPER_DECODER_OV.exists():\n",
    "    torch.onnx.export(\n",
    "        model.decoder, {'x': tokens, 'xa': audio_features, 'kv_cache': kv_cache},\n",
    "        'whisper_decoder.onnx',\n",
    "        input_names=[\"tokens\", \"audio_features\"] + inputs,\n",
    "        output_names=[\"logits\"] + outputs,\n",
    "        dynamic_axes=dynamic_axes\n",
    "    )"
   ]
  },
  {
   "cell_type": "markdown",
   "metadata": {},
   "source": [
    "The decoder model autoregressively predicts the next token guided by encoder hidden states and previously predicted sequence. This means that the shape of inputs which depends on the previous step (inputs for tokens and attention hidden states from previous step) are dynamic. For efficient utilization of memory, you define an upper bound for dynamic input shapes."
   ]
  },
  {
   "cell_type": "code",
   "execution_count": 10,
   "metadata": {},
   "outputs": [
    {
     "name": "stdout",
     "output_type": "stream",
     "text": [
      "Decoder ONNX 輸入形狀： {'tokens': [0, 0], 'audio_features': [0, 1500, 768], 'in_k_0a': [0, 0, 768], 'in_v_0a': [0, 0, 768], 'in_k_1a': [0, 0, 768], 'in_v_1a': [0, 0, 768], 'in_k_2a': [0, 0, 768], 'in_v_2a': [0, 0, 768], 'in_k_3a': [0, 0, 768], 'in_v_3a': [0, 0, 768], 'in_k_4a': [0, 0, 768], 'in_v_4a': [0, 0, 768], 'in_k_5a': [0, 0, 768], 'in_v_5a': [0, 0, 768], 'in_k_6a': [0, 0, 768], 'in_v_6a': [0, 0, 768], 'in_k_7a': [0, 0, 768], 'in_v_7a': [0, 0, 768], 'in_k_8a': [0, 0, 768], 'in_v_8a': [0, 0, 768], 'in_k_9a': [0, 0, 768], 'in_v_9a': [0, 0, 768], 'in_k_10a': [0, 0, 768], 'in_v_10a': [0, 0, 768], 'in_k_11a': [0, 0, 768], 'in_v_11a': [0, 0, 768]}\n"
     ]
    }
   ],
   "source": [
    "import onnx\n",
    "\n",
    "def get_input_shapes(onnx_model_path):\n",
    "    input_shapes = {}\n",
    "    model = onnx.load(onnx_model_path)\n",
    "    for input in model.graph.input:\n",
    "        input_name = input.name\n",
    "        input_shape = [dim.dim_value for dim in input.type.tensor_type.shape.dim]\n",
    "        input_shapes[input_name] = input_shape\n",
    "    return input_shapes\n",
    "\n",
    "# 使用範例\n",
    "onnx_model_path = \"whisper_decoder.onnx\"\n",
    "input_shapes = get_input_shapes(onnx_model_path)\n",
    "print(\"Decoder ONNX 輸入形狀：\", input_shapes)"
   ]
  },
  {
   "cell_type": "code",
   "execution_count": 11,
   "metadata": {
    "ExecuteTime": {
     "end_time": "2023-05-29T16:20:58.157468Z",
     "start_time": "2023-05-29T16:20:56.810465Z"
    }
   },
   "outputs": [],
   "source": [
    "\n",
    "input_shapes = \"tokens[1..11 1..600],audio_features[1..11 1500 768]\"\n",
    "for k, v in kv_cache.items():\n",
    "    if k.endswith('a'):\n",
    "        input_shapes += f\",in_{k}[1..11 0..600 768]\"\n",
    "if not WHISPER_DECODER_OV.exists():\n",
    "    decoder_model = mo.convert_model(\n",
    "        input_model=\"whisper_decoder.onnx\",\n",
    "        compress_to_fp16=True,\n",
    "        input=input_shapes)\n",
    "    serialize(decoder_model, \"whisper_decoder.xml\")"
   ]
  },
  {
   "cell_type": "markdown",
   "metadata": {},
   "source": [
    "## Prepare inference pipeline\n",
    "\n",
    "The image below illustrates the pipeline of video transcribing using the Whisper model.\n",
    "\n",
    "![whisper_pipeline.png](https://user-images.githubusercontent.com/29454499/204536733-1f4342f7-2328-476a-a431-cb596df69854.png)\n",
    "\n",
    "To run the PyTorch Whisper model, we just need to call the `model.transcribe(audio, **parameters)` function. We will try to reuse original model pipeline for audio transcribing after replacing the original models with OpenVINO IR versions."
   ]
  },
  {
   "cell_type": "code",
   "execution_count": 12,
   "metadata": {
    "ExecuteTime": {
     "end_time": "2023-05-29T16:20:58.162100Z",
     "start_time": "2023-05-29T16:20:58.159922Z"
    }
   },
   "outputs": [],
   "source": [
    "class OpenVINOAudioEncoder(torch.nn.Module):\n",
    "    \"\"\"\n",
    "    Helper for inference Whisper encoder model with OpenVINO\n",
    "    \"\"\"\n",
    "\n",
    "    def __init__(self, core, model_path, device='CPU'):\n",
    "        super().__init__()\n",
    "        self.model = core.read_model(model_path)\n",
    "        self.compiled_model = core.compile_model(self.model, device)\n",
    "        self.output_blob = self.compiled_model.output(0)\n",
    "\n",
    "    def forward(self, mel: torch.Tensor):\n",
    "        \"\"\"\n",
    "        Inference OpenVINO whisper encoder model.\n",
    "\n",
    "        Parameters:\n",
    "          mel: input audio fragment mel spectrogram.\n",
    "        Returns:\n",
    "          audio_features: torch tensor with encoded audio features.\n",
    "        \"\"\"\n",
    "        return torch.from_numpy(self.compiled_model(mel)[self.output_blob])"
   ]
  },
  {
   "cell_type": "code",
   "execution_count": 13,
   "metadata": {
    "ExecuteTime": {
     "end_time": "2023-05-29T16:20:58.171022Z",
     "start_time": "2023-05-29T16:20:58.164583Z"
    }
   },
   "outputs": [],
   "source": [
    "from openvino.runtime import Core, Tensor\n",
    "\n",
    "\n",
    "class OpenVINOTextDecoder(torch.nn.Module):\n",
    "    \"\"\"\n",
    "    Helper for inference OpenVINO decoder model\n",
    "    \"\"\"\n",
    "\n",
    "    def __init__(self, core: Core, model_path: Path, device: str = 'CPU'):\n",
    "        super().__init__()\n",
    "        self._core = core\n",
    "        self.model = core.read_model(model_path)\n",
    "        self._input_names = [inp.any_name for inp in self.model.inputs]\n",
    "        self.compiled_model = core.compile_model(self.model, device)\n",
    "        self.device = device\n",
    "\n",
    "    def init_past_inputs(self, feed_dict):\n",
    "        \"\"\"\n",
    "        Initialize cache input for first step.\n",
    "\n",
    "        Parameters:\n",
    "          feed_dict: Dictonary with inputs for inference\n",
    "        Returns:\n",
    "          feed_dict: updated feed_dict\n",
    "        \"\"\"\n",
    "        beam_size = feed_dict['tokens'].shape[0]\n",
    "        audio_len = feed_dict['audio_features'].shape[2]\n",
    "        previous_seq_len = 0\n",
    "        for name in self._input_names:\n",
    "            if name in ['tokens', 'audio_features']:\n",
    "                continue\n",
    "            feed_dict[name] = Tensor(np.zeros(\n",
    "                (beam_size, previous_seq_len, audio_len), dtype=np.float32))\n",
    "        return feed_dict\n",
    "\n",
    "    def preprocess_kv_cache_inputs(self, feed_dict, kv_cache):\n",
    "        \"\"\"\n",
    "        Transform kv_cache to inputs\n",
    "\n",
    "        Parameters:\n",
    "          feed_dict: dictionary with inputs for inference\n",
    "          kv_cache: dictionary with cached attention hidden states from previous step\n",
    "        Returns:\n",
    "          feed_dict: updated feed dictionary with additional inputs\n",
    "        \"\"\"\n",
    "        if not kv_cache:\n",
    "            return self.init_past_inputs(feed_dict)\n",
    "        for k, v in kv_cache.items():\n",
    "            new_k = f'in_{k}'\n",
    "            if new_k in self._input_names:\n",
    "                feed_dict[new_k] = Tensor(v.numpy())\n",
    "        return feed_dict\n",
    "\n",
    "    def postprocess_outputs(self, outputs):\n",
    "        \"\"\"\n",
    "        Transform model output to format expected by the pipeline\n",
    "\n",
    "        Parameters:\n",
    "          outputs: outputs: raw inference results.\n",
    "        Returns:\n",
    "          logits: decoder predicted token logits\n",
    "          kv_cache: cached attention hidden states\n",
    "        \"\"\"\n",
    "        logits = None\n",
    "        kv_cache = {}\n",
    "        for output_t, out in outputs.items():\n",
    "            if 'logits' in output_t.get_names():\n",
    "                logits = torch.from_numpy(out)\n",
    "            else:\n",
    "                tensor_name = output_t.any_name\n",
    "                kv_cache[tensor_name.replace(\n",
    "                    'out_', '')] = torch.from_numpy(out)\n",
    "        return logits, kv_cache\n",
    "\n",
    "    def forward(self, x: torch.Tensor, xa: torch.Tensor, kv_cache: Optional[dict] = None):\n",
    "        \"\"\"\n",
    "        Inference decoder model.\n",
    "\n",
    "        Parameters:\n",
    "          x: torch.LongTensor, shape = (batch_size, <= n_ctx) the text tokens\n",
    "          xa: torch.Tensor, shape = (batch_size, n_mels, n_audio_ctx)\n",
    "             the encoded audio features to be attended on\n",
    "          kv_cache: Dict[str, torch.Tensor], attention modules hidden states cache from previous steps\n",
    "        Returns:\n",
    "          logits: decoder predicted logits\n",
    "          kv_cache: updated kv_cache with current step hidden states\n",
    "        \"\"\"\n",
    "        feed_dict = {'tokens': Tensor(x.numpy()), 'audio_features': Tensor(xa.numpy())}\n",
    "        feed_dict = (self.preprocess_kv_cache_inputs(feed_dict, kv_cache))\n",
    "        res = self.compiled_model(feed_dict)\n",
    "        return self.postprocess_outputs(res)"
   ]
  },
  {
   "cell_type": "code",
   "execution_count": 14,
   "metadata": {
    "ExecuteTime": {
     "end_time": "2023-05-29T16:20:58.175856Z",
     "start_time": "2023-05-29T16:20:58.169946Z"
    }
   },
   "outputs": [],
   "source": [
    "from whisper.decoding import DecodingTask, Inference, DecodingOptions, DecodingResult\n",
    "\n",
    "\n",
    "class OpenVINOInference(Inference):\n",
    "    \"\"\"\n",
    "    Wrapper for inference interface\n",
    "    \"\"\"\n",
    "\n",
    "    def __init__(self, model: \"Whisper\", initial_token_length: int):\n",
    "        self.model: \"Whisper\" = model\n",
    "        self.initial_token_length = initial_token_length\n",
    "        self.kv_cache = {}\n",
    "\n",
    "    def logits(self, tokens: torch.Tensor, audio_features: torch.Tensor) -> torch.Tensor:\n",
    "        \"\"\"\n",
    "        getting logits for given tokens sequence and audio features and save kv_cache\n",
    "\n",
    "        Parameters:\n",
    "          tokens: input tokens\n",
    "          audio_features: input audio features\n",
    "        Returns:\n",
    "          logits: predicted by decoder logits\n",
    "        \"\"\"\n",
    "        if tokens.shape[-1] > self.initial_token_length:\n",
    "            # only need to use the last token except in the first forward pass\n",
    "            tokens = tokens[:, -1:]\n",
    "        logits, self.kv_cache = self.model.decoder(\n",
    "            tokens, audio_features, kv_cache=self.kv_cache)\n",
    "        return logits\n",
    "\n",
    "    def cleanup_caching(self):\n",
    "        \"\"\"\n",
    "        Reset kv_cache to initial state\n",
    "        \"\"\"\n",
    "        self.kv_cache = {}\n",
    "\n",
    "    def rearrange_kv_cache(self, source_indices):\n",
    "        \"\"\"\n",
    "        Update hidden states cache for selected sequences\n",
    "        Parameters:\n",
    "          source_indicies: sequences indicies\n",
    "        Returns:\n",
    "          None\n",
    "        \"\"\"\n",
    "        for module, tensor in self.kv_cache.items():\n",
    "            # update the key/value cache to contain the selected sequences\n",
    "            self.kv_cache[module] = tensor[source_indices]\n",
    "\n",
    "\n",
    "class OpenVINODecodingTask(DecodingTask):\n",
    "    \"\"\"\n",
    "    Class for decoding using OpenVINO\n",
    "    \"\"\"\n",
    "\n",
    "    def __init__(self, model: \"Whisper\", options: DecodingOptions):\n",
    "        super().__init__(model, options)\n",
    "        self.inference = OpenVINOInference(model, len(self.initial_tokens))\n",
    "\n",
    "\n",
    "@torch.no_grad()\n",
    "def decode(model: \"Whisper\", mel: torch.Tensor, options: DecodingOptions = DecodingOptions()) -> Union[DecodingResult, List[DecodingResult]]:\n",
    "    \"\"\"\n",
    "    Performs decoding of 30-second audio segment(s), provided as Mel spectrogram(s).\n",
    "\n",
    "    Parameters\n",
    "    ----------\n",
    "    model: Whisper\n",
    "        the Whisper model instance\n",
    "\n",
    "    mel: torch.Tensor, shape = (80, 3000) or (*, 80, 3000)\n",
    "        A tensor containing the Mel spectrogram(s)\n",
    "\n",
    "    options: DecodingOptions\n",
    "        A dataclass that contains all necessary options for decoding 30-second segments\n",
    "\n",
    "    Returns\n",
    "    -------\n",
    "    result: Union[DecodingResult, List[DecodingResult]]\n",
    "        The result(s) of decoding contained in `DecodingResult` dataclass instance(s)\n",
    "    \"\"\"\n",
    "    single = mel.ndim == 2\n",
    "    if single:\n",
    "        mel = mel.unsqueeze(0)\n",
    "\n",
    "    result = OpenVINODecodingTask(model, options).run(mel)\n",
    "\n",
    "    if single:\n",
    "        result = result[0]\n",
    "\n",
    "    return result"
   ]
  },
  {
   "cell_type": "code",
   "execution_count": 15,
   "metadata": {
    "ExecuteTime": {
     "end_time": "2023-05-29T16:20:58.219617Z",
     "start_time": "2023-05-29T16:20:58.172328Z"
    }
   },
   "outputs": [],
   "source": [
    "del model.decoder\n",
    "del model.encoder"
   ]
  },
  {
   "cell_type": "code",
   "execution_count": 16,
   "metadata": {
    "ExecuteTime": {
     "end_time": "2023-05-29T16:20:59.071544Z",
     "start_time": "2023-05-29T16:20:58.219386Z"
    }
   },
   "outputs": [],
   "source": [
    "from collections import namedtuple\n",
    "\n",
    "Parameter = namedtuple('Parameter', ['device'])\n",
    "\n",
    "core = Core()\n",
    "\n",
    "model.encoder = OpenVINOAudioEncoder(core, 'whisper_encoder.xml')\n",
    "model.decoder = OpenVINOTextDecoder(core, 'whisper_decoder.xml')\n",
    "model.decode = partial(decode, model)\n",
    "\n",
    "\n",
    "def parameters():\n",
    "    return iter([Parameter(torch.device('cpu'))])\n",
    "\n",
    "\n",
    "model.parameters = parameters\n",
    "\n",
    "\n",
    "def logits(model, tokens: torch.Tensor, audio_features: torch.Tensor):\n",
    "    \"\"\"\n",
    "    Override for logits extraction method\n",
    "    Parameters:\n",
    "      toekns: input tokens\n",
    "      audio_features: input audio features\n",
    "    Returns:\n",
    "      logits: decoder predicted logits\n",
    "    \"\"\"\n",
    "    return model.decoder(tokens, audio_features, None)[0]\n",
    "\n",
    "\n",
    "model.logits = partial(logits, model)"
   ]
  },
  {
   "cell_type": "markdown",
   "metadata": {},
   "source": [
    "#### Define audio preprocessing\n",
    "\n",
    "The model expects mono-channel audio with a 16000 Hz sample rate, represented in floating point range. When the audio from the input video does not meet these requirements, we will need to apply preprocessing."
   ]
  },
  {
   "cell_type": "code",
   "execution_count": 17,
   "metadata": {
    "ExecuteTime": {
     "end_time": "2023-05-29T16:20:59.928728Z",
     "start_time": "2023-05-29T16:20:59.071916Z"
    }
   },
   "outputs": [],
   "source": [
    "import io\n",
    "from pathlib import Path\n",
    "import numpy as np\n",
    "from scipy.io import wavfile\n",
    "from pytube import YouTube\n",
    "from moviepy.editor import VideoFileClip\n",
    "\n",
    "\n",
    "def resample(audio, src_sample_rate, dst_sample_rate):\n",
    "    \"\"\"\n",
    "    Resample audio to specific sample rate\n",
    "\n",
    "    Parameters:\n",
    "      audio: input audio signal\n",
    "      src_sample_rate: source audio sample rate\n",
    "      dst_sample_rate: destination audio sample rate\n",
    "    Returns:\n",
    "      resampled_audio: input audio signal resampled with dst_sample_rate\n",
    "    \"\"\"\n",
    "    if src_sample_rate == dst_sample_rate:\n",
    "        return audio\n",
    "    duration = audio.shape[0] / src_sample_rate\n",
    "    resampled_data = np.zeros(shape=(int(duration * dst_sample_rate)), dtype=np.float32)\n",
    "    x_old = np.linspace(0, duration, audio.shape[0], dtype=np.float32)\n",
    "    x_new = np.linspace(0, duration, resampled_data.shape[0], dtype=np.float32)\n",
    "    resampled_audio = np.interp(x_new, x_old, audio)\n",
    "    return resampled_audio.astype(np.float32)\n",
    "\n",
    "\n",
    "def audio_to_float(audio):\n",
    "    \"\"\"\n",
    "    convert audio signal to floating point format\n",
    "    \"\"\"\n",
    "    return audio.astype(np.float32) / np.iinfo(audio.dtype).max\n",
    "\n",
    "\n",
    "def get_audio(video_file):\n",
    "    \"\"\"\n",
    "    Extract audio signal from a given video file, then convert it to float, \n",
    "    then mono-channel format and resample it to the expected sample rate\n",
    "\n",
    "    Parameters:\n",
    "        video_file: path to input video file\n",
    "    Returns:\n",
    "      resampled_audio: mono-channel float audio signal with 16000 Hz sample rate \n",
    "                       extracted from video  \n",
    "    \"\"\"\n",
    "    input_video = VideoFileClip(str(video_file))\n",
    "    input_video.audio.write_audiofile(video_file.stem + '.wav', verbose=False, logger=None)\n",
    "    input_audio_file = video_file.stem + '.wav'\n",
    "    sample_rate, audio = wavfile.read(\n",
    "        io.BytesIO(open(input_audio_file, 'rb').read()))\n",
    "    audio = audio_to_float(audio)\n",
    "    if audio.ndim == 2:\n",
    "        audio = audio.mean(axis=1)\n",
    "    resampled_audio = resample(audio, sample_rate, 16000)\n",
    "    return resampled_audio"
   ]
  },
  {
   "cell_type": "markdown",
   "metadata": {},
   "source": [
    "## Run video transcription pipeline\n",
    "\n",
    "Now, we are ready to start transcription. We select a video from YouTube that we want to transcribe. Be patient, as downloading the video may take some time."
   ]
  },
  {
   "cell_type": "code",
   "execution_count": 18,
   "metadata": {
    "ExecuteTime": {
     "end_time": "2023-05-29T16:20:59.939871Z",
     "start_time": "2023-05-29T16:20:59.937545Z"
    }
   },
   "outputs": [
    {
     "data": {
      "application/vnd.jupyter.widget-view+json": {
       "model_id": "8e1327e985ed4fd8873ec1205f2122c6",
       "version_major": 2,
       "version_minor": 0
      },
      "text/plain": [
       "Text(value='https://www.youtube.com/watch?v=A7OneT71EGs', description='Video:', placeholder='Type link for vid…"
      ]
     },
     "execution_count": 18,
     "metadata": {},
     "output_type": "execute_result"
    }
   ],
   "source": [
    "import ipywidgets as widgets\n",
    "VIDEO_LINK = \"https://www.youtube.com/watch?v=A7OneT71EGs\"\n",
    "link = widgets.Text(\n",
    "    value=VIDEO_LINK,\n",
    "    placeholder=\"Type link for video\",\n",
    "    description=\"Video:\",\n",
    "    disabled=False\n",
    ")\n",
    "\n",
    "link"
   ]
  },
  {
   "cell_type": "code",
   "execution_count": 19,
   "metadata": {
    "ExecuteTime": {
     "end_time": "2023-05-29T16:21:01.922524Z",
     "start_time": "2023-05-29T16:20:59.941202Z"
    }
   },
   "outputs": [
    {
     "name": "stdout",
     "output_type": "stream",
     "text": [
      "Downloading video https://www.youtube.com/watch?v=A7OneT71EGs started\n",
      "Video saved to downloaded_video.mp4\n"
     ]
    }
   ],
   "source": [
    "print(f\"Downloading video {link.value} started\")\n",
    "\n",
    "output_file = Path(\"downloaded_video.mp4\")\n",
    "yt = YouTube(link.value)\n",
    "yt.streams.get_highest_resolution().download(filename=output_file)\n",
    "print(f\"Video saved to {output_file}\")"
   ]
  },
  {
   "cell_type": "markdown",
   "metadata": {},
   "source": [
    "Select the task for the model:\n",
    "* **transcribe** - generate audio transcription in the source language (automatically detected).\n",
    "* **translate** - generate audio transcription with translation to English language."
   ]
  },
  {
   "cell_type": "code",
   "execution_count": 20,
   "metadata": {
    "ExecuteTime": {
     "end_time": "2023-05-29T16:21:02.307382Z",
     "start_time": "2023-05-29T16:21:02.305123Z"
    }
   },
   "outputs": [
    {
     "data": {
      "application/vnd.jupyter.widget-view+json": {
       "model_id": "4713f91208a84f03b551e711759e1900",
       "version_major": 2,
       "version_minor": 0
      },
      "text/plain": [
       "Select(description='Select task:', options=('transcribe', 'translate'), value='transcribe')"
      ]
     },
     "execution_count": 20,
     "metadata": {},
     "output_type": "execute_result"
    }
   ],
   "source": [
    "task = widgets.Select(\n",
    "    options=[\"transcribe\", \"translate\"],\n",
    "    value=\"transcribe\",\n",
    "    description=\"Select task:\",\n",
    "    disabled=False\n",
    ")\n",
    "task"
   ]
  },
  {
   "cell_type": "code",
   "execution_count": 21,
   "metadata": {},
   "outputs": [
    {
     "name": "stdout",
     "output_type": "stream",
     "text": [
      "Moviepy - Building video output/segment_0-283.28.mp4.\n",
      "MoviePy - Writing audio in segment_0-283.28TEMP_MPY_wvf_snd.mp3\n"
     ]
    },
    {
     "name": "stderr",
     "output_type": "stream",
     "text": [
      "                                                                                \r"
     ]
    },
    {
     "name": "stdout",
     "output_type": "stream",
     "text": [
      "MoviePy - Done.\n",
      "Moviepy - Writing video output/segment_0-283.28.mp4\n",
      "\n"
     ]
    },
    {
     "name": "stderr",
     "output_type": "stream",
     "text": [
      "                                                                                \r"
     ]
    },
    {
     "name": "stdout",
     "output_type": "stream",
     "text": [
      "Moviepy - Done !\n",
      "Moviepy - video ready output/segment_0-283.28.mp4\n",
      "['output/segment_0-283.28.mp4']\n"
     ]
    }
   ],
   "source": [
    "from moviepy.editor import VideoFileClip\n",
    "import os\n",
    "import shutil\n",
    "    \n",
    "def split_video(input_file, output_dir, duration=300):\n",
    "    # 確保輸出目錄存在並清空目錄內容\n",
    "    if os.path.exists(output_dir):\n",
    "        shutil.rmtree(output_dir)  # 刪除目錄及其內容\n",
    "    os.makedirs(output_dir)  # 創建空目錄\n",
    "\n",
    "    # 讀取原始影片\n",
    "    clip = VideoFileClip(input_file)\n",
    "\n",
    "    # 計算影片長度（單位：秒）\n",
    "    total_duration = clip.duration\n",
    "\n",
    "    audio_files = []  # 存儲切割出的語音檔案路徑\n",
    "\n",
    "    # 切割影片\n",
    "    for i in range(0, int(total_duration), duration):\n",
    "        # 計算切割起始和結束時間\n",
    "        start_time = i\n",
    "        end_time = min(i + duration, total_duration)\n",
    "\n",
    "        # 提取子片段\n",
    "        subclip = clip.subclip(start_time, end_time)\n",
    "\n",
    "        # 生成子片段的文件名\n",
    "        output_file = os.path.join(output_dir, f\"segment_{start_time}-{end_time}.mp4\")\n",
    "\n",
    "        # 將子片段保存為文件\n",
    "        subclip.write_videofile(output_file, codec=\"libx264\")\n",
    "\n",
    "        # 將語音檔案路徑添加到列表中\n",
    "        audio_files.append(output_file)\n",
    "\n",
    "    # 釋放資源\n",
    "    clip.close()\n",
    "\n",
    "    return audio_files\n",
    "\n",
    "# 假設 get_audio 函數已經定義好了，用於獲取語音檔案路徑\n",
    "\n",
    "# 使用範例\n",
    "input_file = \"downloaded_video.mp4\"  # 輸入影片文件\n",
    "output_dir = \"output\"  # 輸出目錄\n",
    "audio_files = split_video(input_file, output_dir)\n",
    "print(audio_files)"
   ]
  },
  {
   "cell_type": "code",
   "execution_count": 22,
   "metadata": {},
   "outputs": [],
   "source": [
    "output_file_path = output_file.with_suffix(\".txt\")\n",
    "\n",
    "with output_file_path.open(\"w\") as f:\n",
    "        pass  # 空操作，不寫入任何內容\n",
    "\n",
    "# 在上面的 for 迴圈中遍歷語音檔案並進行處理\n",
    "for audio_file in audio_files:\n",
    "    divide_mp4 = Path(audio_file)\n",
    "    audio = get_audio(divide_mp4)\n",
    "    # 在這裡添加您對語音檔案的處理邏輯\n",
    "    transcription = model.transcribe(audio, language=\"Chinese\",initial_prompt=\"以下是普通話的句子。\", beam_size=5, best_of=5, task=task.value)\n",
    "    \n",
    "    # 將轉錄的文字附加到文本文件中\n",
    "    with output_file_path.open(\"a\") as f:  # 以附加模式打開文件\n",
    "        f.write(transcription[\"text\"] + \"\\n\")  # 寫入轉錄的文字"
   ]
  },
  {
   "cell_type": "code",
   "execution_count": 23,
   "metadata": {
    "ExecuteTime": {
     "end_time": "2023-05-29T16:21:16.140700Z",
     "start_time": "2023-05-29T16:21:16.136848Z"
    }
   },
   "outputs": [],
   "source": [
    "def format_timestamp(seconds: float):\n",
    "    \"\"\"\n",
    "    format time in srt-file excpected format\n",
    "    \"\"\"\n",
    "    assert seconds >= 0, \"non-negative timestamp expected\"\n",
    "    milliseconds = round(seconds * 1000.0)\n",
    "\n",
    "    hours = milliseconds // 3_600_000\n",
    "    milliseconds -= hours * 3_600_000\n",
    "\n",
    "    minutes = milliseconds // 60_000\n",
    "    milliseconds -= minutes * 60_000\n",
    "\n",
    "    seconds = milliseconds // 1_000\n",
    "    milliseconds -= seconds * 1_000\n",
    "\n",
    "    return (f\"{hours}:\" if hours > 0 else \"00:\") + f\"{minutes:02d}:{seconds:02d},{milliseconds:03d}\"\n",
    "\n",
    "\n",
    "def prepare_srt(transcription):\n",
    "    \"\"\"\n",
    "    Format transcription into srt file format\n",
    "    \"\"\"\n",
    "    segment_lines = []\n",
    "    for segment in transcription[\"segments\"]:\n",
    "        segment_lines.append(str(segment[\"id\"] + 1) + \"\\n\")\n",
    "        time_start = format_timestamp(segment[\"start\"])\n",
    "        time_end = format_timestamp(segment[\"end\"])\n",
    "        time_str = f\"{time_start} --> {time_end}\\n\"\n",
    "        segment_lines.append(time_str)\n",
    "        segment_lines.append(segment[\"text\"] + \"\\n\\n\")\n",
    "    return segment_lines"
   ]
  },
  {
   "cell_type": "markdown",
   "metadata": {},
   "source": [
    "\"The results will be saved in the `downloaded_video.srt` file. SRT is one of the most popular formats for storing subtitles and is compatible with many modern video players. This file can be used to embed transcription into videos during playback or by injecting them directly into video files using `ffmpeg`."
   ]
  },
  {
   "cell_type": "code",
   "execution_count": 24,
   "metadata": {
    "ExecuteTime": {
     "end_time": "2023-05-29T16:21:16.140940Z",
     "start_time": "2023-05-29T16:21:16.136929Z"
    }
   },
   "outputs": [],
   "source": [
    "srt_lines = prepare_srt(transcription)\n",
    "# save transcription\n",
    "with output_file.with_suffix(\".srt\").open(\"w\") as f:\n",
    "    f.writelines(srt_lines)"
   ]
  },
  {
   "cell_type": "markdown",
   "metadata": {},
   "source": [
    "Now let us see the results."
   ]
  },
  {
   "cell_type": "markdown",
   "metadata": {},
   "source": [
    "## JiWER\n",
    "\n",
    "JiWER is a simple and fast python package to evaluate an automatic speech recognition system. It supports the following measures:\n",
    "\n",
    "1. word error rate (WER)\n",
    "2. match error rate (MER)\n",
    "3. word information lost (WIL)\n",
    "4. word information preserved (WIP)\n",
    "5. character error rate (CER)\n",
    "   \n",
    "These measures are computed with the use of the minimum-edit distance between one or more reference and hypothesis sentences. The minimum-edit distance is calculated using RapidFuzz, which uses C++ under the hood, and is therefore faster than a pure python implementation.\n",
    "\n",
    "[back to top ⬆️](#Table-of-contents:)\n"
   ]
  },
  {
   "cell_type": "code",
   "execution_count": 31,
   "metadata": {},
   "outputs": [
    {
     "name": "stdout",
     "output_type": "stream",
     "text": [
      "ground_truth:/n 上禮 拜 講到 需要 對手 幫忙 才能 發揮 效益 的 招 財貓 那 這禮 拜 我們 就 順著 這個 方向 繼續 來 看到 同樣 需要 對手 幫忙 的 怪 獸 出自 黑暗 的 絕望 而 名字 有點長 以下 我 簡稱 絕望 絕望 這張 怪 獸 如果 因為 對 手 的 效果 從 手牌 或是 牌組 被 送到 墓地 這張 卡會 特殊 召喚 他 跟 招 財貓 差不多 都 是 被動 效果 原則 上 是 等 對 方動 作然 後 再 跳出 來 反 打 對 手 絕望 很大 他 拳頭 有 2800 當初 他 被 拿 來 當作 是 對 抗 混沌 帝龍 的 一種 手段 這裡 的 對 抗 不是 拿 絕望 正面 打帝 龍 而是 把 絕望 捏 在 手上 然後等 地龍發 效果 支付 1000 掃場 掉 雙方 手牌 這個 時候 絕望 的 工作 就 來 了 他 從 手牌 被 效果 送墓會 特照 到場 上 這樣 我 放場 上 就 保有 怪獸免 於 被 對 手 清場然 後 更 重要 的 是 絕望 可以 防八汰 烏 的 跳過 抽牌 對方 的 帝龍 如果 是 標準 套路 帝龍 掃場然 後 三眼 檢索 八汰 烏 這時候 如果 我們 有 絕望 絕望 就 會 特招 然後站 在 我方 場上 這樣 八汰 烏 就 過不來 而且 理論 上 這時候 雙方 都 不會 有 多 餘 的 資源 那帝 龍方 就 很 危險 掃 完之後沒有 資源然 後 絕望 的 攻擊力 是 2800 所以 對手 無法 承受 太 多次 的 攻擊 這 就是 絕望 對 抗帝 龍 的 手段 對方 發動 帝龍 我方 就 跳 絕望 然後讓 對手 絕望 不過 這種 對策 手段 可遇 不可 求 絕望 更 多 的 應用 還是 在 不 死族 牌組 不要 懷疑 這個 外觀 像是 惡魔 的 東西 實際 上 是 不 死族 早期 遊戲 王卡池 比 較 淺 絕望 有 2800 拳頭 以及 3 千分 的 屁股 這 基本上 已經 是 不 死族 的 頂點 能 超越 他 的 怪 獸 沒 有 幾張 對 不 死 玩家 來 說 沒 有 不 投入 的 理由 雖然 絕望 是 8 星等 級略 高不過 他 可以 透過 木乃伊 呼聲 來 特招 當 我方 場上 沒 有 怪 獸 就 可以 從 手牌 特招 一張 不死族 絕望 一上 來 就是 2800 非常 有 競爭 力然 後 再 加上 絕望 的 稀有 度僅僅 是 普卡 價格 非常 姓名 所以 走 在 路上 都 會 撿 到 的 那 一種 所以 廣受 玩家 歡迎 與 絕望 同梯 的 怪 獸 還有 一張 叫做 恐怖 它 的 全名是 來 自 黑暗 的 恐怖 恐怖 效果 跟 絕望 一樣 不過 他 是 4 星 1700 拳頭 小 很多 然後再 加上 這個 系列 主要 還是 吃 他們 的 拳頭 一般 不會 失望 他們 的 效果 玩家 來 說 恐怖 這張 怪 獸 就 如同 1700 的 不 死族 白板 地位 略顯 尷尬 所以 我們 還是 回來 看 絕望 在 動畫 中表現 絕望 作為 一張 經典 的 3 期 卡片 她 的 演出 自然 是 不會少 從 二代 GX 時期 絕望 就 開始 在 動畫 中 曝光 擔任 串場 一職 因為 絕望 的 攻擊 力夠 高 所以 他 總 是 被 萬 丈目 當作 武裝龍 的 發動代價 發動 武裝龍 5 的 效果 代價 丟絕 望 發動 武裝龍 7 的 效果 代價 丟絕 望 在 第 GX 篇 絕望 只是 被 捨 棄 就是 在 被 捨 棄的 路上 完全 沒有 上場 太 粗暴 了 這麼 有 歷史 定位 的 一張 怪 獸 在 前 幾代 幾乎 沒有 表現 絕望 是 一直 等到 第六代 才 有 比 較 具體 的 故事 描述 大致 的 劇情 是 年幼 時期 的 尊 被 拐 去 做 實驗 他 被 囚禁 起來 並且 強行 打牌 而 在 這些 牌局 中 一直 被 打爆 然後還 受到 殘酷 的 電擊 懲罰 在 這過 程中 對 尊 造成 最大 傷害 的 就是 絕望 尊 被 絕望 打倒 的 陰影 每次 看到 絕望 那 巨大 又 恐怖 的 形象 都 會 讓 尊 的 情緒 不 穩定 無法 繼續 戰鬥 對 絕望 有 陰影 莫非 尊小時候 玩 的 是 混沌 帝龍尊 看到 絕望 會 崩 潰然 後 全身 顫抖 這個 鏡頭 一直 到 高中 都 沒 有 改善 高中 時 也 與 地方 派系 水藻 有過 一次 對決 水沼 不是 普通 玩家 他 曾 經試 全國大賽 的 參賽者 通常 要表達 一個 玩家 的 實力 我會習 慣講 名次 比如 說 優勝 或者 是 四強 八強 但 水沼 這邊 的 稱呼 是 參賽者 可見 他 不是 等 閒之輩 一定 跟 普通人 不一樣 水沼 要 召喚 出尊 的 心 魔 絕望 看到 絕望 上場 尊 的 老毛病 又 起來 他 癱軟 在 地 沒辦 法續 戰不過 還好後來 受到 不靈 夢 的 鼓勵 尊終 於 克服 自己 多年 來 的 心 魔 重新 站 起來 不再 害怕 絕望 變成 尊二點 零視 為 轉生 絕望 是 典型 的 反派 在 他 的 卡圖 故事 中 絕望 都 是 站 在 正義的 對 立面 不過 這些 卡圖 所 描繪 的 絕望 跟 原本 絕望 其實 有點 不 一樣 他 有 漏出 腿部 結構 而且 身體 是 以 紫藍色 呈現 不是 原本 的 酒 紅色然 後 腹部 的 部分 也 有加 強絕 望 跟 我 一樣 有 明顯 腹肌 這時候 一定 會有 觀眾 提出 質疑 絕望 為 什麼 會 有 腹肌 在 這些 客串 的 卡圖 之中 絕望 很 不 絕望 絕望 的 形象 似乎 更 像是 阿努 比斯 不論 是 腿部 肩膀 或者 是 手臂 絕望 的 尖刺 特徵都 與 阿努 比斯 匹配 然後再 加上 配色 還有 招牌 的 雙馬尾 這些 絕望 的 特徵阿努 比斯 也 全都 有 它 甚至 比 絕望 還更 像是 絕望 於 是 有 一派 玩家 的 說 法 是 這有 可能 是 伏筆 阿路 比斯 很 有 可能 就是 絕望 嗎 人會 對 死亡 產 生恐 懼 而 阿努 比斯 就是 司掌 這一類 的 工作 他 是 陰間 審判 的 執 行者 所以 見 到 阿努 比斯 就 如同 見 到 絕望 把 這個 他 套用 到 卡片 效果 也 是 如此 尊 害怕 看到 絕望 不過 以尊 所在 的 時代來 說 絕望 只 不過 是 2800 拳頭 沒什麼 好 怕 的 但 如果 把 它 換成 封鎖 墓地 的 阿魯 比斯 那 一切 就 合理 了 這個 確實會 讓 人產 生恐 懼\n",
      "--------------------------------------------\n",
      "hypothesis:/n 上個 影片 講到 需要 對手 幫忙 探才會 效應 的 招 財貓 那 這禮 拜 我們 就 順 這個 方向 繼續 來 看到 通常 需要 對手 幫忙 的 怪 獸 出自 黑暗 的 絕望 而 名字 有點長 以下 會 顯成 絕望 就 像 這樣 怪 獸 如果 因為 對 手 的 效果 從 手牌 或是 牌組 被 送到 墓地 這樣 卡會 特殊 召喚 他 跟 招 財貓 差不多 都 是 被動 效果 原則 上 是 等 對方 的 動作然 後 再 跳出 來 反 打 對 手 絕望 很大 他 的 拳頭 有 2800 當初 他 被 拿 來 當作 是 對 抗護士 的 手段 這裡 的 對 抗 不是 拿 絕望 正面 打地龍 而是 把 絕望 捏 在 手上 然後等 地龍發 效果 是 付 1000 掃場給 我 雙方 手牌 這個 時候 絕望 的 工作 就 來 了 他 從 手牌 被 效果 送牧會 特殊 到場 上 這樣 我 放場 上 就 幫 我 怪 獸免 於 被 對 手清 台然 後 更 重要 的 是 絕望 可以 防 8 抬 的 跳過 抽牌 對方 的 地龍 如果 是 標準 套物 地龍 掃場 然後三點 解鎖 八 抺 這時候 如果 我們 有 絕望 那 絕望 就 會 特招 然後站 在 五方 場上 這樣 八 抬 我 就 過不來 而且 理論 上 這時候 雙方 都 不會 有 多 餘 的 資源 那 地龍方 就 很 危險 掃 完之後沒有 支援 然後絕 望 的 攻擊力 是 2800 所以 我無法 承受 太 多次 的 攻擊 這 就是 絕望 對 抗地龍 的 手段 對方 防方 地龍 我防 就 跳 絕望 然後讓 對手 絕望 不過 這種 對 手 手段 可 不可 求 絕望 更 多 的 英勇 還是 在 不 死 祖排 住 不要 懷疑 這個 外觀 像是 惡魔 東西 實際 上 是 不 死祖 對 於 不 死 玩家 來 說 沒 有 不 透露 的 理由 雖然 絕望 是 八星 但 極略 高不過 他 可以 透過 木蘭姨 附來 特招 當我 防場 上 沒 有 怪 獸 就 可以 從索 白特質 招招 不死祖 絕望 一上 來 就是 2800 非常 精力 然後再 加上 絕望 的 稀有 度經濟 是 普卡 價格 非常 清明 所以 走 在 路上 都 會 減到 哪 一種 所以 廣受 玩家 歡迎 比 絕望 同屆 的 怪 獸 這樣 叫 恐怖 他 全名是 黑暗 的 恐怖 恐怖 效果 跟 絕望 一樣 不過 他 是 四星 一千 七拳 頭小 很多 再 加上 這個 系列 主要 吃 他們 拳頭 一般 不會 奢望 他們 的 效果 所以 對 玩家 來 說 恐怖 這樣 怪 獸 就 如同 一千 七 的 不 死 祖排 地位 略顯 尷尬 所以 我們 還是 回來 看 絕望 在 動畫 中表現 絕望 作為 一張 經典 的 三期 卡片 他 的 演出 自然 是 不會少 從 二代 GX 時期 絕望 就 開始 在 動畫 中 曝光 擔任 串場 椅子 因為 絕望 的 攻擊力 過高 所以 他 總 是 被 玩障 當作 武裝 的 發動代價 發動 武裝武 的 效果 代價格 丟久 忘 發動 武裝 的 企業 效果 價 丟久 忘 在 動畫 面前 絕望 不是 被 捨 棄 就是 在 被 捨 棄的 路上 完全 沒有 上場 這麼 有 歷史 定位 的 一張 怪 獸 在 前 幾代 幾乎 沒有 表現 絕望 是 一直 成到 第六代 才 有 比 較 具體 的 故事 描述 大致 的 句型 是 連用 時期 的 尊 被 拐 做 實驗 他 被 囚禁 起來 並且 強行 打牌 而 在 這些 牌局 中尊 一直 被 打爆 然後還 受到 殘酷 的 電擊 懲罰 在 這個 過程 中 對 尊 造成 最大 傷害 的 就是 絕望 尊 被 絕望 打得 很 陰 每次 看到 絕望 那 巨大 有 恐怖 的 形象 都 讓 尊 的 情緒 不 穩定 無法 繼續 戰鬥 對 絕望 有 陰影 莫非 尊小時候 玩 的 是 混沌 地勇尊 看到 絕望 會 崩 潰然 後 全身 戰鬥 這個 見 逃 一直 到 高中 都 沒 有 改善 高中 視野尊 與 地方 派系 隧有過 一次 對局 衰照 不是 普通 玩家 他 曾 經是 全國大賽 的 參賽者 尊終 於 克服 自己 多元 來 的 心 魔 重新 站 起來 不再 害怕 絕望 變成 尊 20 四位 轉身 絕望 是 典型 的 反派 在 他 的 卡圖 故事 中 絕望 都 站 在 陣營 的 對 立面 不過 卡圖 卡圖 描會 絕望 跟 原版 絕望 其實 有點 不 一樣 他 有 露出 腿部 結構 而且 身體 是 以 紫色 呈現 不是 原本 的 九紅色然 後 腹部 部分 也 有加 強絕 望 跟 我 一樣 有 明顯 腹肌 這時候 一定 會有 觀眾 的 質疑 絕望 為 什麼 會 有 腹肌 在 這些 客串 的 卡圖 之中 絕望 很 不 絕望 絕望 的 形象 似乎 更 像是 阿努 比斯 不論 是 腿部 肩膀 或者 是 手臂 絕望 的 堅持 特徵都 以 阿努 比斯 匹配 然後再 加上 配色 還有 招牌 的 雙馬尾 這些 絕望 的 特徵阿努 比斯 也 全都 有 他 甚至 比 絕望 還更 像是 絕望 於 是 有 派 玩家 說法 是 自由 可能 是 伏筆 阿努 比斯 很 有 可能 就是 絕望 人會 對 死亡 產 生恐 懼 而 阿努 比斯 就是 市長 這類 的 工作 他 是 因監 審判 的 執 行者 所以 見 到 阿努 比斯 就 如同 見 到 絕望 把 這個 堂堂 都 卡定 效果 也 是 如此 絕望 害怕 看到 絕望 不過 以 絕望 所在 的 時代來 說 絕望 只 不過 是 2800 的 拳頭 沒什麼 好 怕 的 但 如果 把 他 換成 封鎖 目的 的 阿努 比斯 那些 就 合理 了 這個 確實會 讓 人產 生恐 懼\n",
      "WER: 0.3118811881188119\n",
      "MER: 0.30642023346303504\n",
      "WIL: 0.4350890644620018\n",
      "WIP: 0.5649109355379982\n",
      "CER: 0.2152649129307151\n"
     ]
    }
   ],
   "source": [
    "import jiwer\n",
    "import jieba\n",
    "\n",
    "class ChineseTextProcessor:\n",
    "    @staticmethod\n",
    "    def tokenize(text):\n",
    "        # 使用jieba分詞\n",
    "        return jieba.lcut(text)\n",
    "\n",
    "    @staticmethod\n",
    "    def join_words_with_spaces(word_sequence):\n",
    "        # 使用空格將單詞序列連接起來\n",
    "        return ' '.join(word_sequence)\n",
    "\n",
    "class WERCalculator:\n",
    "    def __init__(self, hypothesis, ground_truth):\n",
    "        self.hypothesis = hypothesis\n",
    "        self.ground_truth = ground_truth\n",
    "    \n",
    "    def preprocess_text(self, text):\n",
    "        text = jiwer.RemoveWhiteSpace()(text)\n",
    "        text = jiwer.RemoveMultipleSpaces()(text)\n",
    "        text = jiwer.RemovePunctuation()(text)\n",
    "        return text\n",
    "    \n",
    "    def calculate_wer(self):\n",
    "        # 做文字預處理\n",
    "        hypothesis = self.preprocess_text(self.hypothesis)\n",
    "        ground_truth = self.preprocess_text(self.ground_truth)\n",
    "        \n",
    "        # 將中文文本轉換為單詞序列\n",
    "        hypothesis_words = ChineseTextProcessor.tokenize(hypothesis)\n",
    "        hypothesis_text = ChineseTextProcessor.join_words_with_spaces(hypothesis_words)\n",
    "\n",
    "        ground_truth_words = ChineseTextProcessor.tokenize(ground_truth)\n",
    "        ground_truth_text = ChineseTextProcessor.join_words_with_spaces(ground_truth_words)\n",
    "\n",
    "        # 計算 WER\n",
    "        output_wer = jiwer.compute_measures(ground_truth_text, hypothesis_text)\n",
    "        output_cer = jiwer.process_characters(ground_truth_text, hypothesis_text)\n",
    "        print(\"ground_truth:/n\",ground_truth_text)\n",
    "        print(\"--------------------------------------------\")\n",
    "        print(\"hypothesis:/n\",hypothesis_text)\n",
    "        return output_wer,output_cer\n",
    "\n",
    "if __name__ == '__main__':\n",
    "    # 讀取測試文本和答案文本\n",
    "    with open('downloaded_video.txt', 'r') as f:\n",
    "        test = f.read()\n",
    "\n",
    "    with open('../answer.txt', 'r') as a:\n",
    "        answer = a.read()\n",
    "\n",
    "    # 初始化 WERCalculator 物件並計算 WER\n",
    "    calculator = WERCalculator(test, answer)\n",
    "    result_wer,result_cer = calculator.calculate_wer()\n",
    "\n",
    "    print(\"WER:\", result_wer['wer'])\n",
    "    print(\"MER:\", result_wer['mer'])\n",
    "    print(\"WIL:\", result_wer['wil'])\n",
    "    print(\"WIP:\", result_wer['wip'])\n",
    "    print(\"CER:\", result_cer.cer)\n"
   ]
  },
  {
   "cell_type": "code",
   "execution_count": null,
   "metadata": {},
   "outputs": [],
   "source": []
  },
  {
   "cell_type": "code",
   "execution_count": null,
   "metadata": {},
   "outputs": [],
   "source": []
  }
 ],
 "metadata": {
  "kernelspec": {
   "display_name": "Python 3 (ipykernel)",
   "language": "python",
   "name": "python3"
  },
  "language_info": {
   "codemirror_mode": {
    "name": "ipython",
    "version": 3
   },
   "file_extension": ".py",
   "mimetype": "text/x-python",
   "name": "python",
   "nbconvert_exporter": "python",
   "pygments_lexer": "ipython3",
   "version": "3.10.13"
  },
  "vscode": {
   "interpreter": {
    "hash": "916dbcbb3f70747c44a77c7bcd40155683ae19c65e1c03b4aa3499c5328201f1"
   }
  }
 },
 "nbformat": 4,
 "nbformat_minor": 4
}
