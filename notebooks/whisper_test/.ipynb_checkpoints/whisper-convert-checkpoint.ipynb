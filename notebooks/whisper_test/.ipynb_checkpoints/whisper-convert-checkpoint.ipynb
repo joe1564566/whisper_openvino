{
 "cells": [
  {
   "cell_type": "markdown",
   "metadata": {},
   "source": [
    "# Video Subtitle Generation using Whisper and OpenVINO™\n",
    "\n",
    "[Whisper](https://openai.com/blog/whisper/) is an automatic speech recognition (ASR) system trained on 680,000 hours of multilingual and multitask supervised data collected from the web. It is a multi-task model that can perform multilingual speech recognition as well as speech translation and language identification.\n",
    "\n",
    "![asr-training-data-desktop.svg](https://user-images.githubusercontent.com/29454499/204536347-28976978-9a07-416c-acff-fc1214bbfbe0.svg)\n",
    "\n",
    "You can find more information about this model in the [research paper](https://cdn.openai.com/papers/whisper.pdf), [OpenAI blog](https://openai.com/blog/whisper/), [model card](https://github.com/openai/whisper/blob/main/model-card.md) and GitHub [repository](https://github.com/openai/whisper).\n",
    "\n",
    "In this notebook, we will use Whisper with OpenVINO to generate subtitles in a sample video.\n",
    "Notebook contains the following steps:\n",
    "1. Download the model.\n",
    "2. Instantiate the PyTorch model pipeline.\n",
    "3. Convert model to OpenVINO IR, using model conversion API.\n",
    "4. Run the Whisper pipeline with OpenVINO models.\n"
   ]
  },
  {
   "cell_type": "markdown",
   "metadata": {},
   "source": [
    "\n",
    "#### Table of contents:\n",
    "\n",
    "- [Prerequisites](#Prerequisites)\n",
    "- [Instantiate model](#Instantiate-model)\n",
    "    - [Convert model to OpenVINO Intermediate Representation (IR) format.](#Convert-model-to-OpenVINO-Intermediate-Representation-(IR)-format.)\n",
    "    - [Convert Whisper Encoder to OpenVINO IR](#Convert-Whisper-Encoder-to-OpenVINO-IR)\n",
    "    - [Convert Whisper decoder to OpenVINO IR](#Convert-Whisper-decoder-to-OpenVINO-IR)\n",
    "- [Prepare inference pipeline](#Prepare-inference-pipeline)\n",
    "    - [Select inference device](#Select-inference-device)\n",
    "- [Run video transcription pipeline](#Run-video-transcription-pipeline)\n",
    "- [Interactive demo](#Interactive-demo)\n",
    "\n"
   ]
  },
  {
   "cell_type": "markdown",
   "metadata": {},
   "source": [
    "## Prerequisites\n",
    "[back to top ⬆️](#Table-of-contents:)\n"
   ]
  },
  {
   "cell_type": "markdown",
   "metadata": {},
   "source": [
    "Install dependencies."
   ]
  },
  {
   "cell_type": "code",
   "execution_count": 1,
   "metadata": {
    "tags": []
   },
   "outputs": [
    {
     "name": "stdout",
     "output_type": "stream",
     "text": [
      "Requirement already satisfied: openvino-dev<2023.0.0 in /home/user/miniconda3/envs/whisper/lib/python3.10/site-packages (2022.3.1)\n",
      "Requirement already satisfied: addict>=2.4.0 in /home/user/miniconda3/envs/whisper/lib/python3.10/site-packages (from openvino-dev<2023.0.0) (2.4.0)\n",
      "Requirement already satisfied: defusedxml>=0.7.1 in /home/user/miniconda3/envs/whisper/lib/python3.10/site-packages (from openvino-dev<2023.0.0) (0.7.1)\n",
      "Requirement already satisfied: jstyleson>=0.0.2 in /home/user/miniconda3/envs/whisper/lib/python3.10/site-packages (from openvino-dev<2023.0.0) (0.0.2)\n",
      "Requirement already satisfied: networkx<=2.8.8 in /home/user/miniconda3/envs/whisper/lib/python3.10/site-packages (from openvino-dev<2023.0.0) (2.8.8)\n",
      "Requirement already satisfied: numpy<1.25.0,>=1.16.6 in /home/user/miniconda3/envs/whisper/lib/python3.10/site-packages (from openvino-dev<2023.0.0) (1.24.4)\n",
      "Requirement already satisfied: opencv-python>=4.5 in /home/user/miniconda3/envs/whisper/lib/python3.10/site-packages (from openvino-dev<2023.0.0) (4.9.0.80)\n",
      "Requirement already satisfied: openvino-telemetry>=2022.1.0 in /home/user/miniconda3/envs/whisper/lib/python3.10/site-packages (from openvino-dev<2023.0.0) (2023.2.1)\n",
      "Requirement already satisfied: pandas~=1.3.5 in /home/user/miniconda3/envs/whisper/lib/python3.10/site-packages (from openvino-dev<2023.0.0) (1.3.5)\n",
      "Requirement already satisfied: pillow>=8.1.2 in /home/user/miniconda3/envs/whisper/lib/python3.10/site-packages (from openvino-dev<2023.0.0) (10.2.0)\n",
      "Requirement already satisfied: pyyaml>=5.4.1 in /home/user/miniconda3/envs/whisper/lib/python3.10/site-packages (from openvino-dev<2023.0.0) (6.0.1)\n",
      "Requirement already satisfied: requests>=2.25.1 in /home/user/miniconda3/envs/whisper/lib/python3.10/site-packages (from openvino-dev<2023.0.0) (2.31.0)\n",
      "Requirement already satisfied: texttable>=1.6.3 in /home/user/miniconda3/envs/whisper/lib/python3.10/site-packages (from openvino-dev<2023.0.0) (1.7.0)\n",
      "Requirement already satisfied: tqdm>=4.54.1 in /home/user/miniconda3/envs/whisper/lib/python3.10/site-packages (from openvino-dev<2023.0.0) (4.66.2)\n",
      "Requirement already satisfied: openvino==2022.3.1 in /home/user/miniconda3/envs/whisper/lib/python3.10/site-packages (from openvino-dev<2023.0.0) (2022.3.1)\n",
      "Requirement already satisfied: scipy>=1.8 in /home/user/miniconda3/envs/whisper/lib/python3.10/site-packages (from openvino-dev<2023.0.0) (1.8.1)\n",
      "Requirement already satisfied: python-dateutil>=2.7.3 in /home/user/miniconda3/envs/whisper/lib/python3.10/site-packages (from pandas~=1.3.5->openvino-dev<2023.0.0) (2.8.2)\n",
      "Requirement already satisfied: pytz>=2017.3 in /home/user/miniconda3/envs/whisper/lib/python3.10/site-packages (from pandas~=1.3.5->openvino-dev<2023.0.0) (2023.3.post1)\n",
      "Requirement already satisfied: charset-normalizer<4,>=2 in /home/user/miniconda3/envs/whisper/lib/python3.10/site-packages (from requests>=2.25.1->openvino-dev<2023.0.0) (2.0.4)\n",
      "Requirement already satisfied: idna<4,>=2.5 in /home/user/miniconda3/envs/whisper/lib/python3.10/site-packages (from requests>=2.25.1->openvino-dev<2023.0.0) (3.4)\n",
      "Requirement already satisfied: urllib3<3,>=1.21.1 in /home/user/miniconda3/envs/whisper/lib/python3.10/site-packages (from requests>=2.25.1->openvino-dev<2023.0.0) (2.1.0)\n",
      "Requirement already satisfied: certifi>=2017.4.17 in /home/user/miniconda3/envs/whisper/lib/python3.10/site-packages (from requests>=2.25.1->openvino-dev<2023.0.0) (2024.2.2)\n",
      "Requirement already satisfied: six>=1.5 in /home/user/miniconda3/envs/whisper/lib/python3.10/site-packages (from python-dateutil>=2.7.3->pandas~=1.3.5->openvino-dev<2023.0.0) (1.16.0)\n",
      "Note: you may need to restart the kernel to use updated packages.\n",
      "Note: you may need to restart the kernel to use updated packages.\n",
      "Note: you may need to restart the kernel to use updated packages.\n"
     ]
    }
   ],
   "source": [
    "%pip install  \"openvino-dev<2023.0.0\"\n",
    "%pip install -q \"python-ffmpeg<=1.0.16\" moviepy transformers onnx\n",
    "%pip install -q \"git+https://github.com/garywu007/pytube.git\""
   ]
  },
  {
   "cell_type": "markdown",
   "metadata": {},
   "source": [
    "## Instantiate model\n",
    "[back to top ⬆️](#Table-of-contents:)\n",
    "\n",
    "Whisper is a Transformer based encoder-decoder model, also referred to as a sequence-to-sequence model. It maps a sequence of audio spectrogram features to a sequence of text tokens. First, the raw audio inputs are converted to a log-Mel spectrogram by action of the feature extractor. Then, the Transformer encoder encodes the spectrogram to form a sequence of encoder hidden states. Finally, the decoder autoregressively predicts text tokens, conditional on both the previous tokens and the encoder hidden states.\n",
    "\n",
    "You can see the model architecture in the diagram below:\n",
    "\n",
    "![whisper_architecture.svg](https://user-images.githubusercontent.com/29454499/204536571-8f6d8d77-5fbd-4c6d-8e29-14e734837860.svg)\n"
   ]
  },
  {
   "cell_type": "markdown",
   "metadata": {},
   "source": [
    "There are several models of different sizes and capabilities trained by the authors of the model. In this tutorial, we will use the `base` model, but the same actions are also applicable to other models from Whisper family."
   ]
  },
  {
   "cell_type": "code",
   "execution_count": 2,
   "metadata": {},
   "outputs": [
    {
     "name": "stdout",
     "output_type": "stream",
     "text": [
      "Processing /home/user/Desktop/reseach_data/2023_whisper/notebooks/whisper_test/whisper\n",
      "  Preparing metadata (setup.py) ... \u001b[?25ldone\n",
      "\u001b[?25hRequirement already satisfied: numpy in /home/user/miniconda3/envs/whisper/lib/python3.10/site-packages (from openai-whisper==20230124) (1.24.4)\n",
      "Requirement already satisfied: torch in /home/user/miniconda3/envs/whisper/lib/python3.10/site-packages (from openai-whisper==20230124) (1.13.0)\n",
      "Requirement already satisfied: tqdm in /home/user/miniconda3/envs/whisper/lib/python3.10/site-packages (from openai-whisper==20230124) (4.66.2)\n",
      "Requirement already satisfied: more-itertools in /home/user/miniconda3/envs/whisper/lib/python3.10/site-packages (from openai-whisper==20230124) (10.2.0)\n",
      "Requirement already satisfied: transformers>=4.19.0 in /home/user/miniconda3/envs/whisper/lib/python3.10/site-packages (from openai-whisper==20230124) (4.38.2)\n",
      "Requirement already satisfied: ffmpeg-python==0.2.0 in /home/user/miniconda3/envs/whisper/lib/python3.10/site-packages/ffmpeg_python-0.2.0-py3.10.egg (from openai-whisper==20230124) (0.2.0)\n",
      "Requirement already satisfied: future in /home/user/miniconda3/envs/whisper/lib/python3.10/site-packages (from ffmpeg-python==0.2.0->openai-whisper==20230124) (1.0.0)\n",
      "Requirement already satisfied: filelock in /home/user/miniconda3/envs/whisper/lib/python3.10/site-packages (from transformers>=4.19.0->openai-whisper==20230124) (3.13.1)\n",
      "Requirement already satisfied: huggingface-hub<1.0,>=0.19.3 in /home/user/miniconda3/envs/whisper/lib/python3.10/site-packages (from transformers>=4.19.0->openai-whisper==20230124) (0.21.4)\n",
      "Requirement already satisfied: packaging>=20.0 in /home/user/miniconda3/envs/whisper/lib/python3.10/site-packages (from transformers>=4.19.0->openai-whisper==20230124) (23.1)\n",
      "Requirement already satisfied: pyyaml>=5.1 in /home/user/miniconda3/envs/whisper/lib/python3.10/site-packages (from transformers>=4.19.0->openai-whisper==20230124) (6.0.1)\n",
      "Requirement already satisfied: regex!=2019.12.17 in /home/user/miniconda3/envs/whisper/lib/python3.10/site-packages (from transformers>=4.19.0->openai-whisper==20230124) (2023.12.25)\n",
      "Requirement already satisfied: requests in /home/user/miniconda3/envs/whisper/lib/python3.10/site-packages (from transformers>=4.19.0->openai-whisper==20230124) (2.31.0)\n",
      "Requirement already satisfied: tokenizers<0.19,>=0.14 in /home/user/miniconda3/envs/whisper/lib/python3.10/site-packages (from transformers>=4.19.0->openai-whisper==20230124) (0.15.2)\n",
      "Requirement already satisfied: safetensors>=0.4.1 in /home/user/miniconda3/envs/whisper/lib/python3.10/site-packages (from transformers>=4.19.0->openai-whisper==20230124) (0.4.2)\n",
      "Requirement already satisfied: typing-extensions in /home/user/miniconda3/envs/whisper/lib/python3.10/site-packages (from torch->openai-whisper==20230124) (4.9.0)\n",
      "Requirement already satisfied: nvidia-cuda-runtime-cu11==11.7.99 in /home/user/miniconda3/envs/whisper/lib/python3.10/site-packages (from torch->openai-whisper==20230124) (11.7.99)\n",
      "Requirement already satisfied: nvidia-cudnn-cu11==8.5.0.96 in /home/user/miniconda3/envs/whisper/lib/python3.10/site-packages (from torch->openai-whisper==20230124) (8.5.0.96)\n",
      "Requirement already satisfied: nvidia-cublas-cu11==11.10.3.66 in /home/user/miniconda3/envs/whisper/lib/python3.10/site-packages (from torch->openai-whisper==20230124) (11.10.3.66)\n",
      "Requirement already satisfied: nvidia-cuda-nvrtc-cu11==11.7.99 in /home/user/miniconda3/envs/whisper/lib/python3.10/site-packages (from torch->openai-whisper==20230124) (11.7.99)\n",
      "Requirement already satisfied: setuptools in /home/user/miniconda3/envs/whisper/lib/python3.10/site-packages (from nvidia-cublas-cu11==11.10.3.66->torch->openai-whisper==20230124) (68.2.2)\n",
      "Requirement already satisfied: wheel in /home/user/miniconda3/envs/whisper/lib/python3.10/site-packages (from nvidia-cublas-cu11==11.10.3.66->torch->openai-whisper==20230124) (0.41.2)\n",
      "Requirement already satisfied: fsspec>=2023.5.0 in /home/user/miniconda3/envs/whisper/lib/python3.10/site-packages (from huggingface-hub<1.0,>=0.19.3->transformers>=4.19.0->openai-whisper==20230124) (2024.2.0)\n",
      "Requirement already satisfied: charset-normalizer<4,>=2 in /home/user/miniconda3/envs/whisper/lib/python3.10/site-packages (from requests->transformers>=4.19.0->openai-whisper==20230124) (2.0.4)\n",
      "Requirement already satisfied: idna<4,>=2.5 in /home/user/miniconda3/envs/whisper/lib/python3.10/site-packages (from requests->transformers>=4.19.0->openai-whisper==20230124) (3.4)\n",
      "Requirement already satisfied: urllib3<3,>=1.21.1 in /home/user/miniconda3/envs/whisper/lib/python3.10/site-packages (from requests->transformers>=4.19.0->openai-whisper==20230124) (2.1.0)\n",
      "Requirement already satisfied: certifi>=2017.4.17 in /home/user/miniconda3/envs/whisper/lib/python3.10/site-packages (from requests->transformers>=4.19.0->openai-whisper==20230124) (2024.2.2)\n",
      "Building wheels for collected packages: openai-whisper\n",
      "  Building wheel for openai-whisper (setup.py) ... \u001b[?25ldone\n",
      "\u001b[?25h  Created wheel for openai-whisper: filename=openai_whisper-20230124-py3-none-any.whl size=1179305 sha256=660eeef70796f7ee2cfa5404b6c709d37d61213a9ffe1c1ed6af7955d55f8708\n",
      "  Stored in directory: /tmp/pip-ephem-wheel-cache-bfjas9lr/wheels/97/a5/9e/9346eebd5dc61b40ce139ae1803c5a89f3cc6a743b13df5677\n",
      "Successfully built openai-whisper\n",
      "Installing collected packages: openai-whisper\n",
      "  Attempting uninstall: openai-whisper\n",
      "    Found existing installation: openai-whisper 20230124\n",
      "    Uninstalling openai-whisper-20230124:\n",
      "      Successfully uninstalled openai-whisper-20230124\n",
      "Successfully installed openai-whisper-20230124\n"
     ]
    }
   ],
   "source": [
    "from pathlib import Path\n",
    "\n",
    "REPO_DIR = Path(\"whisper\")\n",
    "if not REPO_DIR.exists():\n",
    "    !git clone https://github.com/openai/whisper.git -b v20230124\n",
    "!cd whisper && pip install ."
   ]
  },
  {
   "cell_type": "code",
   "execution_count": 3,
   "metadata": {},
   "outputs": [],
   "source": [
    "import whisper\n",
    "\n",
    "model = whisper.load_model(\"base\")\n",
    "model.to(\"cpu\")\n",
    "model.eval()\n",
    "pass"
   ]
  },
  {
   "cell_type": "markdown",
   "metadata": {},
   "source": [
    "### Convert model to OpenVINO Intermediate Representation (IR) format.\n",
    "[back to top ⬆️](#Table-of-contents:)\n",
    "\n",
    "For best results with OpenVINO, it is recommended to convert the model to OpenVINO IR format. We need to provide initialized model object and example of inputs for shape inference. We will use `ov.convert_model` functionality to convert models. The `ov.convert_model` Python function returns an OpenVINO model ready to load on device and start making predictions. We can save it on disk for next usage with `ov.save_model`.\n"
   ]
  },
  {
   "cell_type": "markdown",
   "metadata": {},
   "source": [
    "### Convert Whisper Encoder to OpenVINO IR\n",
    "[back to top ⬆️](#Table-of-contents:)\n"
   ]
  },
  {
   "cell_type": "code",
   "execution_count": 4,
   "metadata": {},
   "outputs": [
    {
     "name": "stderr",
     "output_type": "stream",
     "text": [
      "/home/user/miniconda3/envs/whisper/lib/python3.10/site-packages/whisper/model.py:153: TracerWarning: Converting a tensor to a Python boolean might cause the trace to be incorrect. We can't record the data flow of Python values, so this value will be treated as a constant in the future. This means that the trace might not generalize to other inputs!\n",
      "  assert x.shape[1:] == self.positional_embedding.shape, \"incorrect audio shape\"\n"
     ]
    }
   ],
   "source": [
    "import torch\n",
    "from openvino.tools import mo\n",
    "from openvino.runtime import serialize\n",
    "\n",
    "mel = torch.zeros((1, 80, 3000))\n",
    "audio_features = model.encoder(mel)\n",
    "torch.onnx.export(\n",
    "    model.encoder, \n",
    "    mel, \n",
    "    \"whisper_encoder.onnx\",\n",
    "    input_names=[\"mel\"], \n",
    "    output_names=[\"output_features\"]\n",
    ")\n",
    "encoder_model = mo.convert_model(\"whisper_encoder.onnx\", compress_to_fp16=True)\n",
    "serialize(encoder_model, xml_path=\"whisper_encoder.xml\")"
   ]
  },
  {
   "cell_type": "markdown",
   "metadata": {},
   "source": [
    "### Convert Whisper decoder to OpenVINO IR\n",
    "[back to top ⬆️](#Table-of-contents:)\n",
    "\n",
    "To reduce computational complexity, the decoder uses cached key/value projections in attention modules from the previous steps. We need to modify this process for correct tracing."
   ]
  },
  {
   "cell_type": "code",
   "execution_count": 5,
   "metadata": {},
   "outputs": [],
   "source": [
    "import torch\n",
    "from typing import Optional, Union, List, Dict\n",
    "from functools import partial\n",
    "\n",
    "positional_embeddings_size = model.decoder.positional_embedding.shape[0]\n",
    "\n",
    "\n",
    "def save_to_cache(cache: Dict[str, torch.Tensor], module: str, output: torch.Tensor):\n",
    "    \"\"\"\n",
    "    Saving cached attention hidden states for previous tokens.\n",
    "    Parameters:\n",
    "      cache: dictionary with cache.\n",
    "      module: current attention module name.\n",
    "      output: predicted hidden state.\n",
    "    Returns:\n",
    "      output: cached attention hidden state for specified attention module.\n",
    "    \"\"\"\n",
    "    if module not in cache or output.shape[1] > positional_embeddings_size:\n",
    "        # save as-is, for the first token or cross attention\n",
    "        cache[module] = output\n",
    "    else:\n",
    "        cache[module] = torch.cat([cache[module], output], dim=1).detach()\n",
    "    return cache[module]\n",
    "\n",
    "\n",
    "def attention_forward(\n",
    "        attention_module,\n",
    "        x: torch.Tensor,\n",
    "        xa: Optional[torch.Tensor] = None,\n",
    "        mask: Optional[torch.Tensor] = None,\n",
    "        kv_cache: Optional[dict] = None,\n",
    "        idx: int = 0\n",
    "):\n",
    "    \"\"\"\n",
    "    Override for forward method of decoder attention module with storing cache values explicitly.\n",
    "    Parameters:\n",
    "      attention_module: current attention module\n",
    "      x: input token ids.\n",
    "      xa: input audio features (Optional).\n",
    "      mask: mask for applying attention (Optional).\n",
    "      kv_cache: dictionary with cached key values for attention modules.\n",
    "      idx: idx for search in kv_cache.\n",
    "    Returns:\n",
    "      attention module output tensor\n",
    "      updated kv_cache\n",
    "    \"\"\"\n",
    "    q = attention_module.query(x)\n",
    "\n",
    "    if kv_cache is None or xa is None:\n",
    "        # hooks, if installed (i.e. kv_cache is not None), will prepend the cached kv tensors;\n",
    "        # otherwise, perform key/value projections for self- or cross-attention as usual.\n",
    "        k = attention_module.key(x if xa is None else xa)\n",
    "        v = attention_module.value(x if xa is None else xa)\n",
    "        if kv_cache is not None:\n",
    "            k = save_to_cache(kv_cache, f'k_{idx}', k)\n",
    "            v = save_to_cache(kv_cache, f'v_{idx}', v)\n",
    "    else:\n",
    "        # for cross-attention, calculate keys and values once and reuse in subsequent calls.\n",
    "        k = kv_cache.get(f'k_{idx}', save_to_cache(\n",
    "            kv_cache, f'k_{idx}', attention_module.key(xa)))\n",
    "        v = kv_cache.get(f'v_{idx}', save_to_cache(\n",
    "            kv_cache, f'v_{idx}', attention_module.value(xa)))\n",
    "\n",
    "    wv, qk = attention_module.qkv_attention(q, k, v, mask)\n",
    "    return attention_module.out(wv), kv_cache\n",
    "\n",
    "\n",
    "def block_forward(\n",
    "    residual_block,\n",
    "    x: torch.Tensor,\n",
    "    xa: Optional[torch.Tensor] = None,\n",
    "    mask: Optional[torch.Tensor] = None,\n",
    "    kv_cache: Optional[dict] = None,\n",
    "    idx: int = 0\n",
    "):\n",
    "    \"\"\"\n",
    "    Override for residual block forward method for providing kv_cache to attention module.\n",
    "      Parameters:\n",
    "        residual_block: current residual block.\n",
    "        x: input token_ids.\n",
    "        xa: input audio features (Optional).\n",
    "        mask: attention mask (Optional).\n",
    "        kv_cache: cache for storing attention key values.\n",
    "        idx: index of current residual block for search in kv_cache.\n",
    "      Returns:\n",
    "        x: residual block output\n",
    "        kv_cache: updated kv_cache\n",
    "\n",
    "    \"\"\"\n",
    "    x0, kv_cache = residual_block.attn(residual_block.attn_ln(\n",
    "        x), mask=mask, kv_cache=kv_cache, idx=f'{idx}a')\n",
    "    x = x + x0\n",
    "    if residual_block.cross_attn:\n",
    "        x1, kv_cache = residual_block.cross_attn(\n",
    "            residual_block.cross_attn_ln(x), xa, kv_cache=kv_cache, idx=f'{idx}c')\n",
    "        x = x + x1\n",
    "    x = x + residual_block.mlp(residual_block.mlp_ln(x))\n",
    "    return x, kv_cache\n",
    "\n",
    "\n",
    "# update forward functions\n",
    "for idx, block in enumerate(model.decoder.blocks):\n",
    "    block.forward = partial(block_forward, block, idx=idx)\n",
    "    block.attn.forward = partial(attention_forward, block.attn)\n",
    "    if block.cross_attn:\n",
    "        block.cross_attn.forward = partial(attention_forward, block.cross_attn)\n",
    "\n",
    "\n",
    "def decoder_forward(decoder, x: torch.Tensor, xa: torch.Tensor, kv_cache: Optional[dict] = None):\n",
    "    \"\"\"\n",
    "    Override for decoder forward method.\n",
    "    Parameters:\n",
    "      x: torch.LongTensor, shape = (batch_size, <= n_ctx) the text tokens\n",
    "      xa: torch.Tensor, shape = (batch_size, n_mels, n_audio_ctx)\n",
    "           the encoded audio features to be attended on\n",
    "      kv_cache: Dict[str, torch.Tensor], attention modules hidden states cache from previous steps \n",
    "    \"\"\"\n",
    "    offset = next(iter(kv_cache.values())).shape[1] if kv_cache else 0\n",
    "    x = decoder.token_embedding(\n",
    "        x) + decoder.positional_embedding[offset: offset + x.shape[-1]]\n",
    "    x = x.to(xa.dtype)\n",
    "\n",
    "    for block in decoder.blocks:\n",
    "        x, kv_cache = block(x, xa, mask=decoder.mask, kv_cache=kv_cache)\n",
    "\n",
    "    x = decoder.ln(x)\n",
    "    logits = (\n",
    "        x @ torch.transpose(decoder.token_embedding.weight.to(x.dtype), 1, 0)).float()\n",
    "\n",
    "    return logits, kv_cache\n",
    "\n",
    "\n",
    "# override decoder forward\n",
    "model.decoder.forward = partial(decoder_forward, model.decoder)"
   ]
  },
  {
   "cell_type": "code",
   "execution_count": 6,
   "metadata": {},
   "outputs": [],
   "source": [
    "tokens = torch.ones((5, 3), dtype=torch.int64)\n",
    "\n",
    "logits, kv_cache = model.decoder(tokens, audio_features, kv_cache={})\n",
    "kv_cache = {k: v for k, v in kv_cache.items()}\n",
    "tokens = torch.ones((5, 1), dtype=torch.int64)"
   ]
  },
  {
   "cell_type": "code",
   "execution_count": 7,
   "metadata": {},
   "outputs": [
    {
     "name": "stderr",
     "output_type": "stream",
     "text": [
      "/tmp/ipykernel_28201/1737529362.py:18: TracerWarning: Converting a tensor to a Python boolean might cause the trace to be incorrect. We can't record the data flow of Python values, so this value will be treated as a constant in the future. This means that the trace might not generalize to other inputs!\n",
      "  if module not in cache or output.shape[1] > positional_embeddings_size:\n"
     ]
    }
   ],
   "source": [
    "outputs = [f\"out_{k}\" for k in kv_cache.keys()]\n",
    "inputs = [f\"in_{k}\" for k in kv_cache.keys()]\n",
    "dynamic_axes = {\n",
    "    \"tokens\": {0: \"beam_size\", 1: \"seq_len\"},\n",
    "    \"audio_features\": {0: \"beam_size\"},\n",
    "    \"logits\": {0: \"beam_size\", 1: \"seq_len\"}}\n",
    "dynamic_outs = {o: {0: \"beam_size\", 1: \"prev_seq_len\"} for o in outputs}\n",
    "dynamic_inp = {i: {0: \"beam_size\", 1: \"prev_seq_len\"} for i in inputs}\n",
    "dynamic_axes.update(dynamic_outs)\n",
    "dynamic_axes.update(dynamic_inp)\n",
    "torch.onnx.export(\n",
    "    model.decoder, {'x': tokens, 'xa': audio_features, 'kv_cache': kv_cache},\n",
    "    'whisper_decoder.onnx',\n",
    "    input_names=[\"tokens\", \"audio_features\"] + inputs,\n",
    "    output_names=[\"logits\"] + outputs,\n",
    "    dynamic_axes=dynamic_axes\n",
    ")"
   ]
  },
  {
   "cell_type": "markdown",
   "metadata": {},
   "source": [
    "The decoder model autoregressively predicts the next token guided by encoder hidden states and previously predicted sequence. This means that the shape of inputs which depends on the previous step (inputs for tokens and attention hidden states from previous step) are dynamic. For efficient utilization of memory, you define an upper bound for dynamic input shapes."
   ]
  },
  {
   "cell_type": "code",
   "execution_count": 8,
   "metadata": {},
   "outputs": [
    {
     "name": "stderr",
     "output_type": "stream",
     "text": [
      "Warning: One or more of the values of the Constant can't fit in the float16 data type. Those values were casted to the nearest limit value, the model can produce incorrect results.\n"
     ]
    }
   ],
   "source": [
    "input_shapes = \"tokens[1..5 -1],audio_features[1..5 1500 512]\"\n",
    "for k, v in kv_cache.items():\n",
    "    if k.endswith('a'):\n",
    "        input_shapes += f\",in_{k}[1..5 -1 512]\"\n",
    "decoder_model = mo.convert_model(\n",
    "    input_model=\"whisper_decoder.onnx\",\n",
    "    compress_to_fp16=True,\n",
    "    input=input_shapes)\n",
    "serialize(decoder_model, \"whisper_decoder.xml\")"
   ]
  },
  {
   "cell_type": "markdown",
   "metadata": {},
   "source": [
    "## Prepare inference pipeline\n",
    "[back to top ⬆️](#Table-of-contents:)\n",
    "\n",
    "The image below illustrates the pipeline of video transcribing using the Whisper model.\n",
    "\n",
    "![whisper_pipeline.png](https://user-images.githubusercontent.com/29454499/204536733-1f4342f7-2328-476a-a431-cb596df69854.png)\n",
    "\n",
    "To run the PyTorch Whisper model, we just need to call the `model.transcribe(audio, **parameters)` function. We will try to reuse original model pipeline for audio transcribing after replacing the original models with OpenVINO IR versions."
   ]
  },
  {
   "cell_type": "code",
   "execution_count": 9,
   "metadata": {},
   "outputs": [],
   "source": [
    "class OpenVINOAudioEncoder(torch.nn.Module):\n",
    "    \"\"\"\n",
    "    Helper for inference Whisper encoder model with OpenVINO\n",
    "    \"\"\"\n",
    "\n",
    "    def __init__(self, core, model_path, device='CPU'):\n",
    "        super().__init__()\n",
    "        self.model = core.read_model(model_path)\n",
    "        self.compiled_model = core.compile_model(self.model, device)\n",
    "        self.output_blob = self.compiled_model.output(0)\n",
    "\n",
    "    def forward(self, mel: torch.Tensor):\n",
    "        \"\"\"\n",
    "        Inference OpenVINO whisper encoder model.\n",
    "\n",
    "        Parameters:\n",
    "          mel: input audio fragment mel spectrogram.\n",
    "        Returns:\n",
    "          audio_features: torch tensor with encoded audio features.\n",
    "        \"\"\"\n",
    "        return torch.from_numpy(self.compiled_model(mel)[self.output_blob])"
   ]
  },
  {
   "cell_type": "code",
   "execution_count": 10,
   "metadata": {},
   "outputs": [],
   "source": [
    "from openvino.runtime import Core, Tensor\n",
    "\n",
    "\n",
    "class OpenVINOTextDecoder(torch.nn.Module):\n",
    "    \"\"\"\n",
    "    Helper for inference OpenVINO decoder model\n",
    "    \"\"\"\n",
    "\n",
    "    def __init__(self, core: Core, model_path: Path, device: str = 'CPU'):\n",
    "        super().__init__()\n",
    "        self._core = core\n",
    "        self.model = core.read_model(model_path)\n",
    "        self._input_names = [inp.any_name for inp in self.model.inputs]\n",
    "        self.compiled_model = core.compile_model(self.model, device)\n",
    "        self.device = device\n",
    "\n",
    "    def init_past_inputs(self, feed_dict):\n",
    "        \"\"\"\n",
    "        Initialize cache input for first step.\n",
    "\n",
    "        Parameters:\n",
    "          feed_dict: Dictonary with inputs for inference\n",
    "        Returns:\n",
    "          feed_dict: updated feed_dict\n",
    "        \"\"\"\n",
    "        beam_size = feed_dict['tokens'].shape[0]\n",
    "        audio_len = feed_dict['audio_features'].shape[2]\n",
    "        previous_seq_len = 0\n",
    "        for name in self._input_names:\n",
    "            if name in ['tokens', 'audio_features']:\n",
    "                continue\n",
    "            feed_dict[name] = Tensor(np.zeros(\n",
    "                (beam_size, previous_seq_len, audio_len), dtype=np.float32))\n",
    "        return feed_dict\n",
    "\n",
    "    def preprocess_kv_cache_inputs(self, feed_dict, kv_cache):\n",
    "        \"\"\"\n",
    "        Transform kv_cache to inputs\n",
    "\n",
    "        Parameters:\n",
    "          feed_dict: dictionary with inputs for inference\n",
    "          kv_cache: dictionary with cached attention hidden states from previous step\n",
    "        Returns:\n",
    "          feed_dict: updated feed dictionary with additional inputs\n",
    "        \"\"\"\n",
    "        if not kv_cache:\n",
    "            return self.init_past_inputs(feed_dict)\n",
    "        for k, v in kv_cache.items():\n",
    "            new_k = f'in_{k}'\n",
    "            if new_k in self._input_names:\n",
    "                feed_dict[new_k] = Tensor(v.numpy())\n",
    "        return feed_dict\n",
    "\n",
    "    def postprocess_outputs(self, outputs):\n",
    "        \"\"\"\n",
    "        Transform model output to format expected by the pipeline\n",
    "\n",
    "        Parameters:\n",
    "          outputs: outputs: raw inference results.\n",
    "        Returns:\n",
    "          logits: decoder predicted token logits\n",
    "          kv_cache: cached attention hidden states\n",
    "        \"\"\"\n",
    "        logits = None\n",
    "        kv_cache = {}\n",
    "        for output_t, out in outputs.items():\n",
    "            if 'logits' in output_t.get_names():\n",
    "                logits = torch.from_numpy(out)\n",
    "            else:\n",
    "                tensor_name = output_t.any_name\n",
    "                kv_cache[tensor_name.replace(\n",
    "                    'out_', '')] = torch.from_numpy(out)\n",
    "        return logits, kv_cache\n",
    "\n",
    "    def forward(self, x: torch.Tensor, xa: torch.Tensor, kv_cache: Optional[dict] = None):\n",
    "        \"\"\"\n",
    "        Inference decoder model.\n",
    "\n",
    "        Parameters:\n",
    "          x: torch.LongTensor, shape = (batch_size, <= n_ctx) the text tokens\n",
    "          xa: torch.Tensor, shape = (batch_size, n_mels, n_audio_ctx)\n",
    "             the encoded audio features to be attended on\n",
    "          kv_cache: Dict[str, torch.Tensor], attention modules hidden states cache from previous steps\n",
    "        Returns:\n",
    "          logits: decoder predicted logits\n",
    "          kv_cache: updated kv_cache with current step hidden states\n",
    "        \"\"\"\n",
    "        feed_dict = {'tokens': Tensor(x.numpy()), 'audio_features': Tensor(xa.numpy())}\n",
    "        feed_dict = (self.preprocess_kv_cache_inputs(feed_dict, kv_cache))\n",
    "        res = self.compiled_model(feed_dict)\n",
    "        return self.postprocess_outputs(res)"
   ]
  },
  {
   "cell_type": "code",
   "execution_count": 11,
   "metadata": {},
   "outputs": [],
   "source": [
    "from whisper.decoding import DecodingTask, Inference, DecodingOptions, DecodingResult\n",
    "\n",
    "\n",
    "class OpenVINOInference(Inference):\n",
    "    \"\"\"\n",
    "    Wrapper for inference interface\n",
    "    \"\"\"\n",
    "\n",
    "    def __init__(self, model: \"Whisper\", initial_token_length: int):\n",
    "        self.model: \"Whisper\" = model\n",
    "        self.initial_token_length = initial_token_length\n",
    "        self.kv_cache = {}\n",
    "\n",
    "    def logits(self, tokens: torch.Tensor, audio_features: torch.Tensor) -> torch.Tensor:\n",
    "        \"\"\"\n",
    "        getting logits for given tokens sequence and audio features and save kv_cache\n",
    "\n",
    "        Parameters:\n",
    "          tokens: input tokens\n",
    "          audio_features: input audio features\n",
    "        Returns:\n",
    "          logits: predicted by decoder logits\n",
    "        \"\"\"\n",
    "        if tokens.shape[-1] > self.initial_token_length:\n",
    "            # only need to use the last token except in the first forward pass\n",
    "            tokens = tokens[:, -1:]\n",
    "        logits, self.kv_cache = self.model.decoder(\n",
    "            tokens, audio_features, kv_cache=self.kv_cache)\n",
    "        return logits\n",
    "\n",
    "    def cleanup_caching(self):\n",
    "        \"\"\"\n",
    "        Reset kv_cache to initial state\n",
    "        \"\"\"\n",
    "        self.kv_cache = {}\n",
    "\n",
    "    def rearrange_kv_cache(self, source_indices):\n",
    "        \"\"\"\n",
    "        Update hidden states cache for selected sequences\n",
    "        Parameters:\n",
    "          source_indicies: sequences indicies\n",
    "        Returns:\n",
    "          None\n",
    "        \"\"\"\n",
    "        for module, tensor in self.kv_cache.items():\n",
    "            # update the key/value cache to contain the selected sequences\n",
    "            self.kv_cache[module] = tensor[source_indices]\n",
    "\n",
    "\n",
    "class OpenVINODecodingTask(DecodingTask):\n",
    "    \"\"\"\n",
    "    Class for decoding using OpenVINO\n",
    "    \"\"\"\n",
    "\n",
    "    def __init__(self, model: \"Whisper\", options: DecodingOptions):\n",
    "        super().__init__(model, options)\n",
    "        self.inference = OpenVINOInference(model, len(self.initial_tokens))\n",
    "\n",
    "\n",
    "@torch.no_grad()\n",
    "def decode(model: \"Whisper\", mel: torch.Tensor, options: DecodingOptions = DecodingOptions()) -> Union[DecodingResult, List[DecodingResult]]:\n",
    "    \"\"\"\n",
    "    Performs decoding of 30-second audio segment(s), provided as Mel spectrogram(s).\n",
    "\n",
    "    Parameters\n",
    "    ----------\n",
    "    model: Whisper\n",
    "        the Whisper model instance\n",
    "\n",
    "    mel: torch.Tensor, shape = (80, 3000) or (*, 80, 3000)\n",
    "        A tensor containing the Mel spectrogram(s)\n",
    "\n",
    "    options: DecodingOptions\n",
    "        A dataclass that contains all necessary options for decoding 30-second segments\n",
    "\n",
    "    Returns\n",
    "    -------\n",
    "    result: Union[DecodingResult, List[DecodingResult]]\n",
    "        The result(s) of decoding contained in `DecodingResult` dataclass instance(s)\n",
    "    \"\"\"\n",
    "    single = mel.ndim == 2\n",
    "    if single:\n",
    "        mel = mel.unsqueeze(0)\n",
    "\n",
    "    result = OpenVINODecodingTask(model, options).run(mel)\n",
    "\n",
    "    if single:\n",
    "        result = result[0]\n",
    "\n",
    "    return result"
   ]
  },
  {
   "cell_type": "code",
   "execution_count": 12,
   "metadata": {},
   "outputs": [],
   "source": [
    "del model.decoder\n",
    "del model.encoder"
   ]
  },
  {
   "cell_type": "code",
   "execution_count": 13,
   "metadata": {},
   "outputs": [],
   "source": [
    "core = Core()"
   ]
  },
  {
   "cell_type": "markdown",
   "metadata": {},
   "source": [
    "<a id=\"7\"></a>\n",
    "### Select inference device\n",
    "[back to top ⬆️](#Table-of-contents:)\n",
    "\n",
    "select device from dropdown list for running inference using OpenVINO"
   ]
  },
  {
   "cell_type": "code",
   "execution_count": 14,
   "metadata": {
    "collapsed": false,
    "jupyter": {
     "outputs_hidden": false
    }
   },
   "outputs": [
    {
     "data": {
      "application/vnd.jupyter.widget-view+json": {
       "model_id": "787f23f622354e54a700f30af51238e3",
       "version_major": 2,
       "version_minor": 0
      },
      "text/plain": [
       "Dropdown(description='Device:', index=1, options=('CPU', 'AUTO'), value='AUTO')"
      ]
     },
     "execution_count": 14,
     "metadata": {},
     "output_type": "execute_result"
    }
   ],
   "source": [
    "import ipywidgets as widgets\n",
    "\n",
    "device = widgets.Dropdown(\n",
    "    options=core.available_devices + [\"AUTO\"],\n",
    "    value='AUTO',\n",
    "    description='Device:',\n",
    "    disabled=False,\n",
    ")\n",
    "\n",
    "device"
   ]
  },
  {
   "cell_type": "code",
   "execution_count": 15,
   "metadata": {},
   "outputs": [],
   "source": [
    "from collections import namedtuple\n",
    "\n",
    "Parameter = namedtuple('Parameter', ['device'])\n",
    "\n",
    "model.encoder = OpenVINOAudioEncoder(core, 'whisper_encoder.xml', device=device.value)\n",
    "model.decoder = OpenVINOTextDecoder(core, 'whisper_decoder.xml', device=device.value)\n",
    "model.decode = partial(decode, model)\n",
    "\n",
    "\n",
    "def parameters():\n",
    "    return iter([Parameter(torch.device('cpu'))])\n",
    "\n",
    "\n",
    "model.parameters = parameters\n",
    "\n",
    "\n",
    "def logits(model, tokens: torch.Tensor, audio_features: torch.Tensor):\n",
    "    \"\"\"\n",
    "    Override for logits extraction method\n",
    "    Parameters:\n",
    "      toekns: input tokens\n",
    "      audio_features: input audio features\n",
    "    Returns:\n",
    "      logits: decoder predicted logits\n",
    "    \"\"\"\n",
    "    return model.decoder(tokens, audio_features, None)[0]\n",
    "\n",
    "\n",
    "model.logits = partial(logits, model)"
   ]
  },
  {
   "cell_type": "code",
   "execution_count": 16,
   "metadata": {},
   "outputs": [],
   "source": [
    "import io\n",
    "from pathlib import Path\n",
    "import numpy as np\n",
    "from scipy.io import wavfile\n",
    "from pytube import YouTube\n",
    "from moviepy.editor import VideoFileClip\n",
    "\n",
    "\n",
    "def resample(audio, src_sample_rate, dst_sample_rate):\n",
    "    \"\"\"\n",
    "    Resample audio to specific sample rate\n",
    "\n",
    "    Parameters:\n",
    "      audio: input audio signal\n",
    "      src_sample_rate: source audio sample rate\n",
    "      dst_sample_rate: destination audio sample rate\n",
    "    Returns:\n",
    "      resampled_audio: input audio signal resampled with dst_sample_rate\n",
    "    \"\"\"\n",
    "    if src_sample_rate == dst_sample_rate:\n",
    "        return audio\n",
    "    duration = audio.shape[0] / src_sample_rate\n",
    "    resampled_data = np.zeros(shape=(int(duration * dst_sample_rate)), dtype=np.float32)\n",
    "    x_old = np.linspace(0, duration, audio.shape[0], dtype=np.float32)\n",
    "    x_new = np.linspace(0, duration, resampled_data.shape[0], dtype=np.float32)\n",
    "    resampled_audio = np.interp(x_new, x_old, audio)\n",
    "    return resampled_audio.astype(np.float32)\n",
    "\n",
    "\n",
    "def audio_to_float(audio):\n",
    "    \"\"\"\n",
    "    convert audio signal to floating point format\n",
    "    \"\"\"\n",
    "    return audio.astype(np.float32) / np.iinfo(audio.dtype).max\n",
    "\n",
    "\n",
    "def get_audio(video_file):\n",
    "    \"\"\"\n",
    "    Extract audio signal from a given video file, then convert it to float, \n",
    "    then mono-channel format and resample it to the expected sample rate\n",
    "\n",
    "    Parameters:\n",
    "        video_file: path to input video file\n",
    "    Returns:\n",
    "      resampled_audio: mono-channel float audio signal with 16000 Hz sample rate \n",
    "                       extracted from video  \n",
    "    \"\"\"\n",
    "    input_video = VideoFileClip(str(video_file))\n",
    "    input_video.audio.write_audiofile(video_file.stem + '.wav', verbose=False, logger=None)\n",
    "    input_audio_file = video_file.stem + '.wav'\n",
    "    sample_rate, audio = wavfile.read(\n",
    "        io.BytesIO(open(input_audio_file, 'rb').read()))\n",
    "    audio = audio_to_float(audio)\n",
    "    if audio.ndim == 2:\n",
    "        audio = audio.mean(axis=1)\n",
    "    resampled_audio = resample(audio, sample_rate, 16000)\n",
    "    return resampled_audio"
   ]
  },
  {
   "cell_type": "markdown",
   "metadata": {},
   "source": [
    "## Run video transcription pipeline\n",
    "[back to top ⬆️](#Table-of-contents:)\n",
    "\n",
    "Now, we are ready to start transcription. We select a video from YouTube that we want to transcribe. Be patient, as downloading the video may take some time."
   ]
  },
  {
   "cell_type": "code",
   "execution_count": 17,
   "metadata": {},
   "outputs": [
    {
     "data": {
      "application/vnd.jupyter.widget-view+json": {
       "model_id": "0ca99fc04c834146825b57212fc35d56",
       "version_major": 2,
       "version_minor": 0
      },
      "text/plain": [
       "Text(value='https://www.youtube.com/watch?v=huybIHTTNeA', description='Video:', placeholder='Type link for vid…"
      ]
     },
     "execution_count": 17,
     "metadata": {},
     "output_type": "execute_result"
    }
   ],
   "source": [
    "import ipywidgets as widgets\n",
    "VIDEO_LINK = \"https://www.youtube.com/watch?v=huybIHTTNeA\"\n",
    "link = widgets.Text(\n",
    "    value=VIDEO_LINK,\n",
    "    placeholder=\"Type link for video\",\n",
    "    description=\"Video:\",\n",
    "    disabled=False\n",
    ")\n",
    "\n",
    "link\n",
    "#https://youtu.be/kgL5LBM-hFI\n",
    "#https://www.youtube.com/watch?v=A7OneT71EGs\n",
    "#https://www.youtube.com/watch?v=huybIHTTNeA"
   ]
  },
  {
   "cell_type": "code",
   "execution_count": 18,
   "metadata": {},
   "outputs": [
    {
     "name": "stdout",
     "output_type": "stream",
     "text": [
      "Downloading video https://www.youtube.com/watch?v=huybIHTTNeA started\n",
      "Video saved to downloaded_video.mp4\n"
     ]
    }
   ],
   "source": [
    "print(f\"Downloading video {link.value} started\")\n",
    "\n",
    "output_file = Path(\"downloaded_video.mp4\")\n",
    "yt = YouTube(link.value)\n",
    "yt.streams.get_highest_resolution().download(filename=output_file)\n",
    "print(f\"Video saved to {output_file}\")"
   ]
  },
  {
   "cell_type": "code",
   "execution_count": 19,
   "metadata": {},
   "outputs": [],
   "source": [
    "audio = get_audio(output_file)"
   ]
  },
  {
   "cell_type": "markdown",
   "metadata": {},
   "source": [
    "Select the task for the model:\n",
    "\n",
    "* **transcribe** - generate audio transcription in the source language (automatically detected).\n",
    "* **translate** - generate audio transcription with translation to English language."
   ]
  },
  {
   "cell_type": "code",
   "execution_count": 20,
   "metadata": {},
   "outputs": [
    {
     "data": {
      "application/vnd.jupyter.widget-view+json": {
       "model_id": "c6aa3bf176224e8da16128fbed3c84c9",
       "version_major": 2,
       "version_minor": 0
      },
      "text/plain": [
       "Select(description='Select task:', options=('transcribe', 'translate'), value='transcribe')"
      ]
     },
     "execution_count": 20,
     "metadata": {},
     "output_type": "execute_result"
    }
   ],
   "source": [
    "task = widgets.Select(\n",
    "    options=[\"transcribe\", \"translate\"],\n",
    "    value=\"transcribe\",\n",
    "    description=\"Select task:\",\n",
    "    disabled=False\n",
    ")\n",
    "task"
   ]
  },
  {
   "cell_type": "code",
   "execution_count": 21,
   "metadata": {},
   "outputs": [
    {
     "name": "stderr",
     "output_type": "stream",
     "text": [
      "2024-03-25 18:45:51.712219: E tensorflow/compiler/xla/stream_executor/cuda/cuda_dnn.cc:9342] Unable to register cuDNN factory: Attempting to register factory for plugin cuDNN when one has already been registered\n",
      "2024-03-25 18:45:51.712272: E tensorflow/compiler/xla/stream_executor/cuda/cuda_fft.cc:609] Unable to register cuFFT factory: Attempting to register factory for plugin cuFFT when one has already been registered\n",
      "2024-03-25 18:45:51.712796: E tensorflow/compiler/xla/stream_executor/cuda/cuda_blas.cc:1518] Unable to register cuBLAS factory: Attempting to register factory for plugin cuBLAS when one has already been registered\n"
     ]
    }
   ],
   "source": [
    "transcription = model.transcribe(audio, language=\"Chinese\", beam_size=5, best_of=5, task=task.value)"
   ]
  },
  {
   "cell_type": "markdown",
   "metadata": {},
   "source": [
    "\"The results will be saved in the `downloaded_video.srt` file. SRT is one of the most popular formats for storing subtitles and is compatible with many modern video players. This file can be used to embed transcription into videos during playback or by injecting them directly into video files using `ffmpeg`."
   ]
  },
  {
   "cell_type": "code",
   "execution_count": 22,
   "metadata": {},
   "outputs": [],
   "source": [
    "def format_timestamp(seconds: float):\n",
    "    \"\"\"\n",
    "    format time in srt-file excpected format\n",
    "    \"\"\"\n",
    "    assert seconds >= 0, \"non-negative timestamp expected\"\n",
    "    milliseconds = round(seconds * 1000.0)\n",
    "\n",
    "    hours = milliseconds // 3_600_000\n",
    "    milliseconds -= hours * 3_600_000\n",
    "\n",
    "    minutes = milliseconds // 60_000\n",
    "    milliseconds -= minutes * 60_000\n",
    "\n",
    "    seconds = milliseconds // 1_000\n",
    "    milliseconds -= seconds * 1_000\n",
    "\n",
    "    return (f\"{hours}:\" if hours > 0 else \"00:\") + f\"{minutes:02d}:{seconds:02d},{milliseconds:03d}\"\n",
    "\n",
    "\n",
    "def prepare_srt(transcription):\n",
    "    \"\"\"\n",
    "    Format transcription into srt file format\n",
    "    \"\"\"\n",
    "    segment_lines = []\n",
    "    for segment in transcription[\"segments\"]:\n",
    "        segment_lines.append(str(segment[\"id\"] + 1) + \"\\n\")\n",
    "        time_start = format_timestamp(segment[\"start\"])\n",
    "        time_end = format_timestamp(segment[\"end\"])\n",
    "        time_str = f\"{time_start} --> {time_end}\\n\"\n",
    "        segment_lines.append(time_str)\n",
    "        segment_lines.append(segment[\"text\"] + \"\\n\\n\")\n",
    "    return segment_lines"
   ]
  },
  {
   "cell_type": "code",
   "execution_count": 23,
   "metadata": {},
   "outputs": [],
   "source": [
    "srt_lines = prepare_srt(transcription)\n",
    "# save transcription\n",
    "with output_file.with_suffix(\".srt\").open(\"w\") as f:\n",
    "    f.writelines(srt_lines)"
   ]
  },
  {
   "cell_type": "markdown",
   "metadata": {},
   "source": [
    "Now let us see the results."
   ]
  },
  {
   "cell_type": "code",
   "execution_count": 24,
   "metadata": {
    "scrolled": true
   },
   "outputs": [
    {
     "data": {
      "application/vnd.jupyter.widget-view+json": {
       "model_id": "ea45c7d5539442cda278c4ed45f5641f",
       "version_major": 2,
       "version_minor": 0
      },
      "text/plain": [
       "Video(value=b'\\x00\\x00\\x00\\x18ftypmp42\\x00\\x00\\x00\\x00isommp42\\x00\\x00H\\x92moov\\x00\\x00\\x00lmvhd...', height='…"
      ]
     },
     "execution_count": 24,
     "metadata": {},
     "output_type": "execute_result"
    }
   ],
   "source": [
    "widgets.Video.from_file(output_file, loop=False, width=800, height=800)"
   ]
  },
  {
   "cell_type": "code",
   "execution_count": 25,
   "metadata": {},
   "outputs": [],
   "source": [
    "with output_file.with_suffix(\".txt\").open(\"w\") as f:\n",
    "    f.writelines(transcription[\"text\"])"
   ]
  },
  {
   "cell_type": "code",
   "execution_count": 26,
   "metadata": {
    "tags": []
   },
   "outputs": [
    {
     "name": "stdout",
     "output_type": "stream",
     "text": [
      "1\n",
      "00:00:00,000 --> 00:00:02,900\n",
      "我不推薦普南藤殘留生體\n",
      "\n",
      "2\n",
      "00:00:02,900 --> 00:00:04,700\n",
      "這次這小時不排出體外\n",
      "\n",
      "3\n",
      "00:00:04,700 --> 00:00:05,400\n",
      "只是見報感\n",
      "\n",
      "4\n",
      "00:00:05,400 --> 00:00:06,700\n",
      "不值得我信來\n",
      "\n",
      "5\n",
      "00:00:09,700 --> 00:00:12,160\n",
      "當醫生的都會被人找去趕報\n",
      "\n",
      "6\n",
      "00:00:12,160 --> 00:00:13,500\n",
      "但說真的啦\n",
      "\n",
      "7\n",
      "00:00:13,500 --> 00:00:15,200\n",
      "不推薦給你的\n",
      "\n",
      "8\n",
      "00:00:15,200 --> 00:00:17,200\n",
      "我會推薦給我弟\n",
      "\n",
      "9\n",
      "00:00:17,200 --> 00:00:18,200\n",
      "這是我弟\n",
      "\n",
      "10\n",
      "00:00:18,200 --> 00:00:19,100\n",
      "標準的生體\n",
      "\n",
      "11\n",
      "00:00:19,100 --> 00:00:20,000\n",
      "一定要補弟\n",
      "\n",
      "12\n",
      "00:00:20,000 --> 00:00:21,400\n",
      "生體增加負擔\n",
      "\n",
      "13\n",
      "00:00:21,400 --> 00:00:22,900\n",
      "普拿層的主要成分\n",
      "\n",
      "14\n",
      "00:00:22,900 --> 00:00:32,100\n",
      "寒字緣實際領講乾淨能 要笑又不溫和\n",
      "\n",
      "15\n",
      "00:00:32,100 --> 00:00:33,700\n",
      "為家人選子痛藥\n",
      "\n",
      "16\n",
      "00:00:33,700 --> 00:00:35,300\n",
      "我不相信普拿藤\n",
      "\n",
      "17\n",
      "00:00:35,300 --> 00:00:36,700\n",
      "為家人選通藥\n",
      "\n",
      "18\n",
      "00:00:36,700 --> 00:00:38,200\n",
      "我相信普拿拿\n",
      "\n",
      "19\n",
      "00:00:38,200 --> 00:00:40,700\n",
      "我老哥不懂一次通藥 懂藥 相信我老哥\n",
      "\n",
      "\n"
     ]
    }
   ],
   "source": [
    "print(\"\".join(srt_lines))"
   ]
  },
  {
   "cell_type": "markdown",
   "metadata": {},
   "source": [
    "## JiWER\n",
    "\n",
    "JiWER is a simple and fast python package to evaluate an automatic speech recognition system. It supports the following measures:\n",
    "\n",
    "1. word error rate (WER)\n",
    "2. match error rate (MER)\n",
    "3. word information lost (WIL)\n",
    "4. word information preserved (WIP)\n",
    "5. character error rate (CER)\n",
    "   \n",
    "These measures are computed with the use of the minimum-edit distance between one or more reference and hypothesis sentences. The minimum-edit distance is calculated using RapidFuzz, which uses C++ under the hood, and is therefore faster than a pure python implementation.\n",
    "\n",
    "[back to top ⬆️](#Table-of-contents:)\n"
   ]
  },
  {
   "cell_type": "code",
   "execution_count": 27,
   "metadata": {},
   "outputs": [
    {
     "name": "stderr",
     "output_type": "stream",
     "text": [
      "Building prefix dict from the default dictionary ...\n",
      "[ 2024-03-25 18:46:08,704 ] [ DEBUG ] [ __init__:113 ]  Building prefix dict from the default dictionary ...\n",
      "Loading model from cache /tmp/jieba.cache\n",
      "[ 2024-03-25 18:46:08,705 ] [ DEBUG ] [ __init__:132 ]  Loading model from cache /tmp/jieba.cache\n",
      "Loading model cost 0.371 seconds.\n",
      "[ 2024-03-25 18:46:09,076 ] [ DEBUG ] [ __init__:164 ]  Loading model cost 0.371 seconds.\n",
      "Prefix dict has been built successfully.\n",
      "[ 2024-03-25 18:46:09,077 ] [ DEBUG ] [ __init__:166 ]  Prefix dict has been built successfully.\n"
     ]
    },
    {
     "name": "stdout",
     "output_type": "stream",
     "text": [
      "ground_truth:/n 上禮 拜 講到 需要 對手 幫忙 才能 發揮 效益 的 招 財貓 那 這禮 拜 我們 就 順著 這個 方向 繼續 來 看到 同樣 需要 對手 幫忙 的 怪 獸 出自 黑暗 的 絕望 而 名字 有點長 以下 我 簡稱 絕望 絕望 這張 怪 獸 如果 因為 對 手 的 效果 從 手牌 或是 牌組 被 送到 墓地 這張 卡會 特殊 召喚 他 跟 招 財貓 差不多 都 是 被動 效果 原則 上 是 等 對 方動 作然 後 再 跳出 來 反 打 對 手 絕望 很大 他 拳頭 有 2800 當初 他 被 拿 來 當作 是 對 抗 混沌 帝龍 的 一種 手段 這裡 的 對 抗 不是 拿 絕望 正面 打帝 龍 而是 把 絕望 捏 在 手上 然後等 地龍發 效果 支付 1000 掃場 掉 雙方 手牌 這個 時候 絕望 的 工作 就 來 了 他 從 手牌 被 效果 送墓會 特照 到場 上 這樣 我 放場 上 就 保有 怪獸免 於 被 對 手 清場然 後 更 重要 的 是 絕望 可以 防八汰 烏 的 跳過 抽牌 對方 的 帝龍 如果 是 標準 套路 帝龍 掃場然 後 三眼 檢索 八汰 烏 這時候 如果 我們 有 絕望 絕望 就 會 特招 然後站 在 我方 場上 這樣 八汰 烏 就 過不來 而且 理論 上 這時候 雙方 都 不會 有 多 餘 的 資源 那帝 龍方 就 很 危險 掃 完之後沒有 資源然 後 絕望 的 攻擊力 是 2800 所以 對手 無法 承受 太 多次 的 攻擊 這 就是 絕望 對 抗帝 龍 的 手段 對方 發動 帝龍 我方 就 跳 絕望 然後讓 對手 絕望 不過 這種 對策 手段 可遇 不可 求 絕望 更 多 的 應用 還是 在 不 死族 牌組 不要 懷疑 這個 外觀 像是 惡魔 的 東西 實際 上 是 不 死族 早期 遊戲 王卡池 比 較 淺 絕望 有 2800 拳頭 以及 3 千分 的 屁股 這 基本上 已經 是 不 死族 的 頂點 能 超越 他 的 怪 獸 沒 有 幾張 對 不 死 玩家 來 說 沒 有 不 投入 的 理由 雖然 絕望 是 8 星等 級略 高不過 他 可以 透過 木乃伊 呼聲 來 特招 當 我方 場上 沒 有 怪 獸 就 可以 從 手牌 特招 一張 不死族 絕望 一上 來 就是 2800 非常 有 競爭 力然 後 再 加上 絕望 的 稀有 度僅僅 是 普卡 價格 非常 姓名 所以 走 在 路上 都 會 撿 到 的 那 一種 所以 廣受 玩家 歡迎 與 絕望 同梯 的 怪 獸 還有 一張 叫做 恐怖 它 的 全名是 來 自 黑暗 的 恐怖 恐怖 效果 跟 絕望 一樣 不過 他 是 4 星 1700 拳頭 小 很多 然後再 加上 這個 系列 主要 還是 吃 他們 的 拳頭 一般 不會 失望 他們 的 效果 玩家 來 說 恐怖 這張 怪 獸 就 如同 1700 的 不 死族 白板 地位 略顯 尷尬 所以 我們 還是 回來 看 絕望 在 動畫 中表現 絕望 作為 一張 經典 的 3 期 卡片 她 的 演出 自然 是 不會少 從 二代 GX 時期 絕望 就 開始 在 動畫 中 曝光 擔任 串場 一職 因為 絕望 的 攻擊 力夠 高 所以 他 總 是 被 萬 丈目 當作 武裝龍 的 發動代價 發動 武裝龍 5 的 效果 代價 丟絕 望 發動 武裝龍 7 的 效果 代價 丟絕 望 在 第 GX 篇 絕望 只是 被 捨 棄 就是 在 被 捨 棄的 路上 完全 沒有 上場 太 粗暴 了 這麼 有 歷史 定位 的 一張 怪 獸 在 前 幾代 幾乎 沒有 表現 絕望 是 一直 等到 第六代 才 有 比 較 具體 的 故事 描述 大致 的 劇情 是 年幼 時期 的 尊 被 拐 去 做 實驗 他 被 囚禁 起來 並且 強行 打牌 而 在 這些 牌局 中 一直 被 打爆 然後還 受到 殘酷 的 電擊 懲罰 在 這過 程中 對 尊 造成 最大 傷害 的 就是 絕望 尊 被 絕望 打倒 的 陰影 每次 看到 絕望 那 巨大 又 恐怖 的 形象 都 會 讓 尊 的 情緒 不 穩定 無法 繼續 戰鬥 對 絕望 有 陰影 莫非 尊小時候 玩 的 是 混沌 帝龍尊 看到 絕望 會 崩 潰然 後 全身 顫抖 這個 鏡頭 一直 到 高中 都 沒 有 改善 高中 時 也 與 地方 派系 水藻 有過 一次 對決 水沼 不是 普通 玩家 他 曾 經試 全國大賽 的 參賽者 通常 要表達 一個 玩家 的 實力 我會習 慣講 名次 比如 說 優勝 或者 是 四強 八強 但 水沼 這邊 的 稱呼 是 參賽者 可見 他 不是 等 閒之輩 一定 跟 普通人 不一樣 水沼 要 召喚 出尊 的 心 魔 絕望 看到 絕望 上場 尊 的 老毛病 又 起來 他 癱軟 在 地 沒辦 法續 戰不過 還好後來 受到 不靈 夢 的 鼓勵 尊終 於 克服 自己 多年 來 的 心 魔 重新 站 起來 不再 害怕 絕望 變成 尊二點 零視 為 轉生 絕望 是 典型 的 反派 在 他 的 卡圖 故事 中 絕望 都 是 站 在 正義的 對 立面 不過 這些 卡圖 所 描繪 的 絕望 跟 原本 絕望 其實 有點 不 一樣 他 有 漏出 腿部 結構 而且 身體 是 以 紫藍色 呈現 不是 原本 的 酒 紅色然 後 腹部 的 部分 也 有加 強絕 望 跟 我 一樣 有 明顯 腹肌 這時候 一定 會有 觀眾 提出 質疑 絕望 為 什麼 會 有 腹肌 在 這些 客串 的 卡圖 之中 絕望 很 不 絕望 絕望 的 形象 似乎 更 像是 阿努 比斯 不論 是 腿部 肩膀 或者 是 手臂 絕望 的 尖刺 特徵都 與 阿努 比斯 匹配 然後再 加上 配色 還有 招牌 的 雙馬尾 這些 絕望 的 特徵阿努 比斯 也 全都 有 它 甚至 比 絕望 還更 像是 絕望 於 是 有 一派 玩家 的 說 法 是 這有 可能 是 伏筆 阿路 比斯 很 有 可能 就是 絕望 嗎 人會 對 死亡 產 生恐 懼 而 阿努 比斯 就是 司掌 這一類 的 工作 他 是 陰間 審判 的 執 行者 所以 見 到 阿努 比斯 就 如同 見 到 絕望 把 這個 他 套用 到 卡片 效果 也 是 如此 尊 害怕 看到 絕望 不過 以尊 所在 的 時代來 說 絕望 只 不過 是 2800 拳頭 沒什麼 好 怕 的 但 如果 把 它 換成 封鎖 墓地 的 阿魯 比斯 那 一切 就 合理 了 這個 確實會 讓 人產 生恐 懼\n",
      "--------------------------------------------\n",
      "hypothesis:/n 我 不 推薦 普南藤殘留 生體 這次 這小時 不 排出 體外 只是 見 報感 不 值得 我 信來 當醫生 的 都 會 被 人 找 去 趕報 但 說 真的 啦 不 推薦給 你 的 我會 推薦給 我弟 這是 我弟 標準 的 生體 一定 要 補弟 生體 增加 負擔 普拿層 的 主要 成分 寒字緣 實際領 講乾淨 能 要 笑 又 不溫 和 為 家人 選子 痛藥 我 不 相信 普拿藤為 家人 選通藥 我 相信 普拿 拿 我 老哥 不 懂 一次 通藥 懂藥 相信 我 老哥\n",
      "wer =  0.9811881188118812 ,mer =  0.9811881188118812 ,wil =  0.9957949912638323 ,wip =  0.004205008736167734 ,cer =  0.9544275657650981\n"
     ]
    }
   ],
   "source": [
    "import jiwer\n",
    "import jieba\n",
    "\n",
    "def chinese_text_to_word_sequence(text):\n",
    "    # 使用jieba分詞\n",
    "    words = jieba.lcut(text)\n",
    "    return words\n",
    "\n",
    "def join_words_with_spaces(word_sequence):\n",
    "    # 使用空格將單詞序列連接起來\n",
    "    return ' '.join(word_sequence)\n",
    "\n",
    "\n",
    "with output_file.with_suffix(\".txt\").open(\"r\") as f:\n",
    "    test = f.read()\n",
    "\n",
    "with open('answer.txt', 'r') as a:\n",
    "    answer = a.read()\n",
    "    \n",
    "if __name__ == '__main__':\n",
    "    hypothesis = test\n",
    "    ground_truth = answer\n",
    "    \n",
    "    hypothesis = jiwer.RemoveWhiteSpace()(hypothesis)\n",
    "    hypothesis = jiwer.RemoveMultipleSpaces()(hypothesis)\n",
    "    hypothesis = jiwer.RemovePunctuation()(hypothesis)   \n",
    "\n",
    "\n",
    "    ground_truth = jiwer.RemoveWhiteSpace()(ground_truth)\n",
    "    ground_truth = jiwer.RemoveMultipleSpaces()(ground_truth) \n",
    "    ground_truth = jiwer.RemovePunctuation()(ground_truth)   \n",
    "\n",
    "    # 將中文文本轉換為單詞序列\n",
    "    word_sequence = chinese_text_to_word_sequence(hypothesis)\n",
    "    # 將單詞序列中的單詞用空格連接起來\n",
    "    hypothesis_joined_text = join_words_with_spaces(word_sequence)\n",
    "\n",
    "        # 將中文文本轉換為單詞序列\n",
    "    word_sequence = chinese_text_to_word_sequence(ground_truth)\n",
    "    # 將單詞序列中的單詞用空格連接起來\n",
    "    ground_truth_joined_text = join_words_with_spaces(word_sequence)\n",
    "    \n",
    "    print(\"ground_truth:/n\",ground_truth_joined_text)\n",
    "    print(\"--------------------------------------------\")\n",
    "    print(\"hypothesis:/n\",hypothesis_joined_text)\n",
    "    \n",
    "    output = jiwer.process_words(ground_truth_joined_text, hypothesis_joined_text)\n",
    "    wer = output.wer\n",
    "    mer = output.mer\n",
    "    wil = output.wil\n",
    "    wip = output.wip\n",
    "\n",
    "    output = jiwer.process_characters(ground_truth_joined_text, hypothesis_joined_text)\n",
    "    cer = output.cer\n",
    "    \n",
    "    print(\"wer = \",wer,\",mer = \", mer,\",wil = \",wil,\",wip = \", wip,\",cer = \",cer)"
   ]
  },
  {
   "cell_type": "code",
   "execution_count": 28,
   "metadata": {},
   "outputs": [
    {
     "name": "stdout",
     "output_type": "stream",
     "text": [
      "WER: 0.9811881188118812\n",
      "MER: 0.9811881188118812\n",
      "WIL: 0.9957949912638323\n",
      "WIP: 0.004205008736167734\n",
      "CER: 0.9544275657650981\n"
     ]
    }
   ],
   "source": [
    "import jiwer\n",
    "import jieba\n",
    "\n",
    "class ChineseTextProcessor:\n",
    "    @staticmethod\n",
    "    def tokenize(text):\n",
    "        # 使用jieba分詞\n",
    "        return jieba.lcut(text)\n",
    "\n",
    "    @staticmethod\n",
    "    def join_words_with_spaces(word_sequence):\n",
    "        # 使用空格將單詞序列連接起來\n",
    "        return ' '.join(word_sequence)\n",
    "\n",
    "class WERCalculator:\n",
    "    def __init__(self, hypothesis, ground_truth):\n",
    "        self.hypothesis = hypothesis\n",
    "        self.ground_truth = ground_truth\n",
    "    \n",
    "    def preprocess_text(self, text):\n",
    "        text = jiwer.RemoveWhiteSpace()(text)\n",
    "        text = jiwer.RemoveMultipleSpaces()(text)\n",
    "        text = jiwer.RemovePunctuation()(text)\n",
    "        return text\n",
    "    \n",
    "    def calculate_wer(self):\n",
    "        # 做文字預處理\n",
    "        hypothesis = self.preprocess_text(self.hypothesis)\n",
    "        ground_truth = self.preprocess_text(self.ground_truth)\n",
    "        \n",
    "        # 將中文文本轉換為單詞序列\n",
    "        hypothesis_words = ChineseTextProcessor.tokenize(hypothesis)\n",
    "        hypothesis_text = ChineseTextProcessor.join_words_with_spaces(hypothesis_words)\n",
    "\n",
    "        ground_truth_words = ChineseTextProcessor.tokenize(ground_truth)\n",
    "        ground_truth_text = ChineseTextProcessor.join_words_with_spaces(ground_truth_words)\n",
    "\n",
    "        # 計算 WER\n",
    "        output_wer = jiwer.compute_measures(ground_truth_text, hypothesis_text)\n",
    "        output_cer = jiwer.process_characters(ground_truth_text, hypothesis_text)\n",
    "        return output_wer,output_cer\n",
    "\n",
    "if __name__ == '__main__':\n",
    "    # 讀取測試文本和答案文本\n",
    "    with open('downloaded_video.txt', 'r') as f:\n",
    "        test = f.read()\n",
    "\n",
    "    with open('answer.txt', 'r') as a:\n",
    "        answer = a.read()\n",
    "\n",
    "    # 初始化 WERCalculator 物件並計算 WER\n",
    "    calculator = WERCalculator(test, answer)\n",
    "    result_wer,result_cer = calculator.calculate_wer()\n",
    "\n",
    "    print(\"WER:\", result_wer['wer'])\n",
    "    print(\"MER:\", result_wer['mer'])\n",
    "    print(\"WIL:\", result_wer['wil'])\n",
    "    print(\"WIP:\", result_wer['wip'])\n",
    "    print(\"CER:\", result_cer.cer)\n"
   ]
  },
  {
   "cell_type": "code",
   "execution_count": null,
   "metadata": {},
   "outputs": [],
   "source": []
  }
 ],
 "metadata": {
  "kernelspec": {
   "display_name": "Python 3 (ipykernel)",
   "language": "python",
   "name": "python3"
  },
  "language_info": {
   "codemirror_mode": {
    "name": "ipython",
    "version": 3
   },
   "file_extension": ".py",
   "mimetype": "text/x-python",
   "name": "python",
   "nbconvert_exporter": "python",
   "pygments_lexer": "ipython3",
   "version": "3.10.13"
  },
  "openvino_notebooks": {
   "imageUrl": "https://user-images.githubusercontent.com/29454499/204548693-1304ef33-c790-490d-8a8b-d5766acb6254.png",
   "tags": {
    "categories": [
     "Model Demos",
     "AI Trends"
    ],
    "libraries": [],
    "other": [],
    "tasks": [
     "Speech Recognition"
    ]
   }
  },
  "vscode": {
   "interpreter": {
    "hash": "916dbcbb3f70747c44a77c7bcd40155683ae19c65e1c03b4aa3499c5328201f1"
   }
  },
  "widgets": {
   "application/vnd.jupyter.widget-state+json": {
    "state": {},
    "version_major": 2,
    "version_minor": 0
   }
  }
 },
 "nbformat": 4,
 "nbformat_minor": 4
}
